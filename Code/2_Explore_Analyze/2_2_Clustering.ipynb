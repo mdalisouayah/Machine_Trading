{
 "cells": [
  {
   "cell_type": "markdown",
   "metadata": {},
   "source": [
    "## Import Libraries"
   ]
  },
  {
   "cell_type": "code",
   "execution_count": 1,
   "metadata": {},
   "outputs": [],
   "source": [
    "%matplotlib inline\n",
    "\n",
    "import pandas as pd\n",
    "import numpy as np\n",
    "from matplotlib import pyplot as plt\n",
    "from sklearn.decomposition import PCA\n",
    "from sklearn.cluster import KMeans\n",
    "from sklearn.preprocessing import StandardScaler\n",
    "\n",
    "\n",
    "import random\n",
    "random.seed(42)"
   ]
  },
  {
   "cell_type": "code",
   "execution_count": 2,
   "metadata": {},
   "outputs": [],
   "source": [
    "# Define my stocks\n",
    "stocks = ['aapl', \"msft\", \"csco\", 'intc', 'goog', 'amzn', \"ibm\", 'adbe', 'akam', 'fcbk', 'ea', 'ebay']"
   ]
  },
  {
   "cell_type": "code",
   "execution_count": 3,
   "metadata": {},
   "outputs": [],
   "source": [
    "aapl=pd.read_csv('../csv/aapl_8.csv', index_col='ticker')\n",
    "goog=pd.read_csv('../csv/goog_8.csv', index_col='ticker')\n",
    "msft=pd.read_csv('../csv/msft_8.csv', index_col='ticker')\n",
    "adbe=pd.read_csv('../csv/adbe_8.csv', index_col='ticker')\n",
    "akam=pd.read_csv('../csv/akam_8.csv', index_col='ticker')\n",
    "fcbk=pd.read_csv('../csv/fcbk_8.csv', index_col='ticker')\n",
    "amzn=pd.read_csv('../csv/amzn_8.csv', index_col='ticker')\n",
    "ibm=pd.read_csv('../csv/ibm_8.csv', index_col='ticker')\n",
    "intc=pd.read_csv('../csv/intc_8.csv', index_col='ticker')\n",
    "csco=pd.read_csv('../csv/csco_8.csv', index_col='ticker')\n",
    "ea=pd.read_csv('../csv/ea_8.csv', index_col='ticker')\n",
    "ebay=pd.read_csv('../csv/ebay_8.csv', index_col='ticker')"
   ]
  },
  {
   "cell_type": "code",
   "execution_count": 4,
   "metadata": {},
   "outputs": [],
   "source": [
    "comps = aapl\n",
    "comps = aapl.append(goog, ignore_index=False, sort=None)\n",
    "comps = comps.append(msft, ignore_index=False, sort=None)\n",
    "comps = comps.append(adbe, ignore_index=False, sort=None)\n",
    "comps = comps.append(akam, ignore_index=False, sort=None)\n",
    "comps = comps.append(fcbk, ignore_index=False, sort=None)\n",
    "comps = comps.append(amzn, ignore_index=False, sort=None)\n",
    "comps = comps.append(ibm, ignore_index=False, sort=None)\n",
    "comps = comps.append(intc, ignore_index=False, sort=None)\n",
    "comps = comps.append(csco, ignore_index=False, sort=None)\n",
    "comps = comps.append(ea, ignore_index=False, sort=None)\n",
    "comps = comps.append(ebay, ignore_index=False, sort=None)"
   ]
  },
  {
   "cell_type": "code",
   "execution_count": 5,
   "metadata": {},
   "outputs": [
    {
     "data": {
      "text/html": [
       "<div>\n",
       "<style scoped>\n",
       "    .dataframe tbody tr th:only-of-type {\n",
       "        vertical-align: middle;\n",
       "    }\n",
       "\n",
       "    .dataframe tbody tr th {\n",
       "        vertical-align: top;\n",
       "    }\n",
       "\n",
       "    .dataframe thead th {\n",
       "        text-align: right;\n",
       "    }\n",
       "</style>\n",
       "<table border=\"1\" class=\"dataframe\">\n",
       "  <thead>\n",
       "    <tr style=\"text-align: right;\">\n",
       "      <th></th>\n",
       "      <th>Unnamed: 0</th>\n",
       "      <th>date</th>\n",
       "      <th>neg_text</th>\n",
       "      <th>uncert_text</th>\n",
       "      <th>pos_text</th>\n",
       "      <th>delta_0_p</th>\n",
       "      <th>delta_1_p</th>\n",
       "      <th>delta_1_0</th>\n",
       "      <th>delta_3_np</th>\n",
       "      <th>delta_7_np</th>\n",
       "      <th>delta_3_n0</th>\n",
       "      <th>delta_7_n0</th>\n",
       "      <th>period</th>\n",
       "      <th>an_buy</th>\n",
       "      <th>an_hold</th>\n",
       "      <th>an_sell</th>\n",
       "      <th>an_rating</th>\n",
       "      <th>an_d_p</th>\n",
       "      <th>an_d_0</th>\n",
       "    </tr>\n",
       "    <tr>\n",
       "      <th>ticker</th>\n",
       "      <th></th>\n",
       "      <th></th>\n",
       "      <th></th>\n",
       "      <th></th>\n",
       "      <th></th>\n",
       "      <th></th>\n",
       "      <th></th>\n",
       "      <th></th>\n",
       "      <th></th>\n",
       "      <th></th>\n",
       "      <th></th>\n",
       "      <th></th>\n",
       "      <th></th>\n",
       "      <th></th>\n",
       "      <th></th>\n",
       "      <th></th>\n",
       "      <th></th>\n",
       "      <th></th>\n",
       "      <th></th>\n",
       "    </tr>\n",
       "  </thead>\n",
       "  <tbody>\n",
       "    <tr>\n",
       "      <th>aapl</th>\n",
       "      <td>0</td>\n",
       "      <td>2010-10-18</td>\n",
       "      <td>break closure cut decline disaster disasters d...</td>\n",
       "      <td>almost approximate approximately assume assume...</td>\n",
       "      <td>able benefit best favorable innovation innovat...</td>\n",
       "      <td>1</td>\n",
       "      <td>0</td>\n",
       "      <td>0</td>\n",
       "      <td>0</td>\n",
       "      <td>0</td>\n",
       "      <td>0</td>\n",
       "      <td>0</td>\n",
       "      <td>30.0</td>\n",
       "      <td>44.0</td>\n",
       "      <td>2.0</td>\n",
       "      <td>0.0</td>\n",
       "      <td>4.848</td>\n",
       "      <td>0</td>\n",
       "      <td>0</td>\n",
       "    </tr>\n",
       "    <tr>\n",
       "      <th>aapl</th>\n",
       "      <td>1</td>\n",
       "      <td>2010-11-17</td>\n",
       "      <td>absence acquit against allege alleged breach b...</td>\n",
       "      <td>appear appearing appears depend dependent diff...</td>\n",
       "      <td>able beneficial beneficially desired effective...</td>\n",
       "      <td>0</td>\n",
       "      <td>1</td>\n",
       "      <td>1</td>\n",
       "      <td>1</td>\n",
       "      <td>1</td>\n",
       "      <td>1</td>\n",
       "      <td>1</td>\n",
       "      <td>62.0</td>\n",
       "      <td>44.0</td>\n",
       "      <td>4.0</td>\n",
       "      <td>0.0</td>\n",
       "      <td>4.771</td>\n",
       "      <td>0</td>\n",
       "      <td>0</td>\n",
       "    </tr>\n",
       "  </tbody>\n",
       "</table>\n",
       "</div>"
      ],
      "text/plain": [
       "        Unnamed: 0        date  \\\n",
       "ticker                           \n",
       "aapl             0  2010-10-18   \n",
       "aapl             1  2010-11-17   \n",
       "\n",
       "                                                 neg_text  \\\n",
       "ticker                                                      \n",
       "aapl    break closure cut decline disaster disasters d...   \n",
       "aapl    absence acquit against allege alleged breach b...   \n",
       "\n",
       "                                              uncert_text  \\\n",
       "ticker                                                      \n",
       "aapl    almost approximate approximately assume assume...   \n",
       "aapl    appear appearing appears depend dependent diff...   \n",
       "\n",
       "                                                 pos_text  delta_0_p  \\\n",
       "ticker                                                                 \n",
       "aapl    able benefit best favorable innovation innovat...          1   \n",
       "aapl    able beneficial beneficially desired effective...          0   \n",
       "\n",
       "        delta_1_p  delta_1_0  delta_3_np  delta_7_np  delta_3_n0  delta_7_n0  \\\n",
       "ticker                                                                         \n",
       "aapl            0          0           0           0           0           0   \n",
       "aapl            1          1           1           1           1           1   \n",
       "\n",
       "        period  an_buy  an_hold  an_sell  an_rating  an_d_p  an_d_0  \n",
       "ticker                                                               \n",
       "aapl      30.0    44.0      2.0      0.0      4.848       0       0  \n",
       "aapl      62.0    44.0      4.0      0.0      4.771       0       0  "
      ]
     },
     "execution_count": 5,
     "metadata": {},
     "output_type": "execute_result"
    }
   ],
   "source": [
    "comps.head(2)"
   ]
  },
  {
   "cell_type": "code",
   "execution_count": 6,
   "metadata": {},
   "outputs": [
    {
     "data": {
      "text/plain": [
       "Index(['Unnamed: 0', 'date', 'neg_text', 'uncert_text', 'pos_text',\n",
       "       'delta_0_p', 'delta_1_p', 'delta_1_0', 'delta_3_np', 'delta_7_np',\n",
       "       'delta_3_n0', 'delta_7_n0', 'period', 'an_buy', 'an_hold', 'an_sell',\n",
       "       'an_rating', 'an_d_p', 'an_d_0'],\n",
       "      dtype='object')"
      ]
     },
     "execution_count": 6,
     "metadata": {},
     "output_type": "execute_result"
    }
   ],
   "source": [
    "comps.columns"
   ]
  },
  {
   "cell_type": "code",
   "execution_count": 7,
   "metadata": {},
   "outputs": [],
   "source": [
    "comps = comps[['delta_0_p',\n",
    "       'delta_1_p', 'delta_1_0', 'delta_3_np', 'delta_7_np', 'delta_3_n0',\n",
    "       'delta_7_n0', 'period', 'an_buy', 'an_hold', 'an_sell', 'an_rating',\n",
    "       'an_d_p', 'an_d_0']]"
   ]
  },
  {
   "cell_type": "code",
   "execution_count": 8,
   "metadata": {},
   "outputs": [],
   "source": [
    "# comps.set_index('ticker').head()"
   ]
  },
  {
   "cell_type": "code",
   "execution_count": 9,
   "metadata": {},
   "outputs": [],
   "source": [
    "# X = comps.drop('ticker', axis = 1)\n",
    "# ss = StandardScaler()\n",
    "# ss.fit(X)"
   ]
  },
  {
   "cell_type": "code",
   "execution_count": 10,
   "metadata": {},
   "outputs": [],
   "source": [
    "# X.head()"
   ]
  },
  {
   "cell_type": "code",
   "execution_count": 11,
   "metadata": {},
   "outputs": [],
   "source": [
    "# # scaling another way\n",
    "# # Calculate the mean for each feature\n",
    "# mean = np.mean(df1, axis=0)\n",
    "\n",
    "# # Calculate the standard deviation for each feature\n",
    "# stddev = np.std(df1, axis=0)\n",
    "# Substract the mean\n",
    "# df1 = df1 - mean\n",
    "\n",
    "# # Divide by the standard deviation\n",
    "# df1 = df1 / stddev"
   ]
  },
  {
   "cell_type": "code",
   "execution_count": 12,
   "metadata": {},
   "outputs": [],
   "source": [
    "# specify how many clusters the algorithm should generate.\n",
    "n_clusters = 4"
   ]
  },
  {
   "cell_type": "code",
   "execution_count": 13,
   "metadata": {},
   "outputs": [
    {
     "data": {
      "text/plain": [
       "KMeans(algorithm='auto', copy_x=True, init='k-means++', max_iter=300,\n",
       "    n_clusters=4, n_init=10, n_jobs=None, precompute_distances='auto',\n",
       "    random_state=None, tol=0.0001, verbose=0)"
      ]
     },
     "execution_count": 13,
     "metadata": {},
     "output_type": "execute_result"
    }
   ],
   "source": [
    "kmeans = KMeans(n_clusters)\n",
    "kmeans.fit(comps)"
   ]
  },
  {
   "cell_type": "code",
   "execution_count": 19,
   "metadata": {},
   "outputs": [
    {
     "name": "stdout",
     "output_type": "stream",
     "text": [
      "Cluster 0\n",
      "['aapl' 'adbe' 'akam' 'amzn' 'csco' 'ea' 'ebay' 'fcbk' 'goog' 'ibm' 'intc'\n",
      " 'msft']\n",
      "\n",
      "Cluster 1\n",
      "['aapl' 'adbe' 'akam' 'amzn' 'csco' 'ea' 'ebay' 'fcbk' 'goog' 'ibm' 'intc'\n",
      " 'msft']\n",
      "\n",
      "Cluster 2\n",
      "['aapl' 'amzn' 'csco' 'ebay' 'fcbk' 'msft']\n",
      "\n",
      "Cluster 3\n",
      "['aapl' 'adbe' 'akam' 'amzn' 'csco' 'ea' 'ebay' 'fcbk' 'goog' 'ibm' 'intc'\n",
      " 'msft']\n",
      "\n"
     ]
    }
   ],
   "source": [
    "for label in np.unique(kmeans.labels_):\n",
    "    indices = np.where(kmeans.labels_ == label)\n",
    "    print(\"Cluster {}\".format(label))\n",
    "    print(np.unique(list(comps.index[indices])))\n",
    "    print(\"\")"
   ]
  },
  {
   "cell_type": "code",
   "execution_count": 20,
   "metadata": {},
   "outputs": [
    {
     "name": "stdout",
     "output_type": "stream",
     "text": [
      "Your stock aapl is in cluster [0 1 2 3].\n",
      "Your stock msft is in cluster [0 1 2 3].\n",
      "Your stock csco is in cluster [0 1 2 3].\n",
      "Your stock intc is in cluster [0 1 3].\n",
      "Your stock goog is in cluster [0 1 3].\n",
      "Your stock amzn is in cluster [0 1 2 3].\n",
      "Your stock ibm is in cluster [0 1 3].\n",
      "Your stock adbe is in cluster [0 1 3].\n",
      "Your stock akam is in cluster [0 1 3].\n",
      "Your stock fcbk is in cluster [0 1 2 3].\n",
      "Your stock ea is in cluster [0 1 3].\n",
      "Your stock ebay is in cluster [0 1 2 3].\n"
     ]
    }
   ],
   "source": [
    "for stock in stocks:\n",
    "    list_index = np.where(comps.index == stock)\n",
    "    list_index = np.unique(list_index)\n",
    "#     print(\"Your stock %s is in cluster %i.\" % (stock, kmeans.labels_[list_index]))\n",
    "    print(\"Your stock {} is in cluster {}.\".format(stock, np.unique(kmeans.labels_[list_index])))"
   ]
  },
  {
   "cell_type": "code",
   "execution_count": 21,
   "metadata": {},
   "outputs": [],
   "source": [
    "pca = PCA(n_components=2).fit(comps)\n",
    "reduced_data = pca.transform(comps)"
   ]
  },
  {
   "cell_type": "code",
   "execution_count": 22,
   "metadata": {},
   "outputs": [
    {
     "data": {
      "image/png": "[encoded data removed]",
      "text/plain": [
       "<Figure size 432x288 with 1 Axes>"
      ]
     },
     "metadata": {},
     "output_type": "display_data"
    }
   ],
   "source": [
    "kmeans = KMeans(n_clusters)\n",
    "kmeans.fit(reduced_data)\n",
    "\n",
    "# Step size of the mesh. Decrease to increase the quality of the VQ.\n",
    "h = .02     # point in the mesh [x_min, x_max]x[y_min, y_max].\n",
    "\n",
    "# Plot the decision boundary. For that, we will assign a color to each\n",
    "x_min, x_max = reduced_data[:, 0].min() - 1, reduced_data[:, 0].max() + 1\n",
    "y_min, y_max = reduced_data[:, 1].min() - 1, reduced_data[:, 1].max() + 1\n",
    "xx, yy = np.meshgrid(np.arange(x_min, x_max, h), np.arange(y_min, y_max, h))\n",
    "\n",
    "# Obtain labels for each point in mesh. Use last trained model.\n",
    "Z = kmeans.predict(np.c_[xx.ravel(), yy.ravel()])\n",
    "\n",
    "# Put the result into a color plot\n",
    "Z = Z.reshape(xx.shape)\n",
    "plt.figure(1)\n",
    "plt.clf()\n",
    "plt.imshow(Z, interpolation='nearest',\n",
    "           extent=(xx.min(), xx.max(), yy.min(), yy.max()),\n",
    "           cmap=plt.cm.Paired,\n",
    "           aspect='auto', origin='lower')\n",
    "\n",
    "plt.plot(reduced_data[:, 0], reduced_data[:, 1], 'k.', markersize=2)\n",
    "# Plot the centroids as a white X\n",
    "centroids = kmeans.cluster_centers_\n",
    "plt.scatter(centroids[:, 0], centroids[:, 1],\n",
    "            marker='x', s=169, linewidths=3,\n",
    "            color='w', zorder=10)\n",
    "plt.xlim(x_min, x_max)\n",
    "plt.ylim(y_min, y_max)\n",
    "plt.xticks(())\n",
    "plt.yticks(())\n",
    "plt.show()"
   ]
  },
  {
   "cell_type": "code",
   "execution_count": null,
   "metadata": {},
   "outputs": [],
   "source": []
  }
 ],
 "metadata": {
  "kernelspec": {
   "display_name": "Python 3",
   "language": "python",
   "name": "python3"
  },
  "language_info": {
   "codemirror_mode": {
    "name": "ipython",
    "version": 3
   },
   "file_extension": ".py",
   "mimetype": "text/x-python",
   "name": "python",
   "nbconvert_exporter": "python",
   "pygments_lexer": "ipython3",
   "version": "3.7.3"
  }
 },
 "nbformat": 4,
 "nbformat_minor": 2
}
