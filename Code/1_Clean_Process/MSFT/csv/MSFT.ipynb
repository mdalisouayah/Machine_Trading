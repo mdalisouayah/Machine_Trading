{
 "cells": [
  {
   "cell_type": "markdown",
   "metadata": {},
   "source": [
    "# libraries and imports"
   ]
  },
  {
   "cell_type": "markdown",
   "metadata": {},
   "source": [
    "library to scrape sec edgar website\n",
    "https://github.com/coyo8/sec-edgar"
   ]
  },
  {
   "cell_type": "code",
   "execution_count": 8,
   "metadata": {},
   "outputs": [],
   "source": [
    "import pandas as pd\n",
    "import regex as re\n",
    "import datetime\n",
    "import os \n",
    "import numpy as np"
   ]
  },
  {
   "cell_type": "code",
   "execution_count": 9,
   "metadata": {},
   "outputs": [],
   "source": [
    "# import libraries and modules\n",
    "from sklearn.metrics import accuracy_score, confusion_matrix\n",
    "from sklearn.model_selection import train_test_split\n",
    "import seaborn as sns\n",
    "from matplotlib import pyplot as plt\n",
    "from sklearn.pipeline import Pipeline\n",
    "from sklearn.feature_extraction.text import CountVectorizer, TfidfVectorizer, HashingVectorizer\n",
    "from sklearn.naive_bayes import MultinomialNB\n",
    "from sklearn.linear_model import LogisticRegression\n",
    "from sklearn.model_selection import cross_val_score, GridSearchCV \n",
    "from sklearn.neighbors import KNeighborsClassifier\n",
    "from sklearn.preprocessing import StandardScaler\n",
    "from sklearn.ensemble import BaggingClassifier\n",
    "from sklearn.ensemble import RandomForestClassifier, ExtraTreesClassifier\n",
    "from sklearn.tree import DecisionTreeClassifier\n",
    "from sklearn.ensemble import AdaBoostClassifier\n",
    "from sklearn import svm\n",
    "from sklearn.svm import SVC\n",
    "from sklearn.naive_bayes import BernoulliNB\n"
   ]
  },
  {
   "cell_type": "code",
   "execution_count": 12,
   "metadata": {},
   "outputs": [],
   "source": [
    "path=os.getcwd()\n",
    "\n",
    "for root, dirs, files in os.walk(path):\n",
    "    #root \n",
    "    text_files = [file for file in files if '.txt' in file]\n",
    "    break"
   ]
  },
  {
   "cell_type": "code",
   "execution_count": 13,
   "metadata": {},
   "outputs": [
    {
     "data": {
      "text/plain": [
       "100"
      ]
     },
     "execution_count": 13,
     "metadata": {},
     "output_type": "execute_result"
    }
   ],
   "source": [
    "len(text_files)"
   ]
  },
  {
   "cell_type": "code",
   "execution_count": 14,
   "metadata": {},
   "outputs": [],
   "source": [
    "filings = []\n",
    "for file in text_files:\n",
    "    with open(file,\"r\") as text_file:\n",
    "        text = text_file.read()\n",
    "        filings.append(text)"
   ]
  },
  {
   "cell_type": "code",
   "execution_count": 15,
   "metadata": {},
   "outputs": [
    {
     "data": {
      "text/plain": [
       "'<SEC-DOCUMENT>0001193125-13-216952.txt : 20130513\\n<SEC-HEADER>0001193125-13-216952.hdr.sgml : 20130513\\n<ACCEPTANCE-DATETIME>20130513170213\\nACCESSION NUMBER:\\t\\t0001193125-13-216952\\nCONFORMED SUBMISSION TYPE:\\t8-K\\nPUBLIC DOCUMENT COUNT:\\t\\t1\\nCONFORMED PERIOD OF REPORT:\\t20130508\\nITEM INFORMATION:\\t\\tDeparture of Directors or Certain Officers; Election of Directors; Appointment of Certain Officers: Compensatory Arrangements of Certain Officers\\nFILED AS OF DATE:\\t\\t20130513\\nDATE AS OF CHANGE:\\t\\t20130513\\n\\nFILER:\\n\\n\\tCOMPANY DATA:\\t\\n\\t\\tCOMPANY CONFORMED NAME:\\t\\t\\tMICROSOFT CORP\\n\\t\\tCENTRAL INDEX KEY:\\t\\t\\t0000789019\\n\\t\\tSTANDARD INDUSTRIAL CLASSIFICATION:\\tSERVICES-PREPACKAGED SOFTWARE [7372]\\n\\t\\tIRS NUMBER:\\t\\t\\t\\t911144442\\n\\t\\tSTATE OF INCORPORATION:\\t\\t\\tWA\\n\\t\\tFISCAL YEAR END:\\t\\t\\t0630\\n\\n\\tFILING VALUES:\\n\\t\\tFORM TYPE:\\t\\t8-K\\n\\t\\tSEC ACT:\\t\\t1934 Act\\n\\t\\tSEC FILE NUMBER:\\t000-14278\\n\\t\\tFILM NUMBER:\\t\\t13838169\\n\\n\\tBUSINESS ADDRESS:\\t\\n\\t\\tSTREET 1:\\t\\tONE MICROSOFT WAY\\n\\t\\tCITY:\\t\\t\\tREDMOND\\n\\t\\tSTATE:\\t\\t\\tWA\\n\\t\\tZIP:\\t\\t\\t98052-6399\\n\\t\\tBUSINESS PHONE:\\t\\t425-882-8080\\n\\n\\tMAIL ADDRESS:\\t\\n\\t\\tSTREET 1:\\t\\tONE MICROSOFT WAY\\n\\t\\tCITY:\\t\\t\\tREDMOND\\n\\t\\tSTATE:\\t\\t\\tWA\\n\\t\\tZIP:\\t\\t\\t98052-6399\\n</SEC-HEADER>\\n<DOCUMENT>\\n<TYPE>8-K\\n<SEQUENCE>1\\n<FILENAME>d536396d8k.htm\\n<DESCRIPTION>FORM 8-K\\n<TEXT>\\n<HTML><HEAD>\\n<TITLE>Form 8-K</TITLE>\\n</HEAD>\\n <BODY BGCOLOR=\"WHITE\">\\n\\n <P STYLE=\"line-height:0px;margin-top:0px;margin-bottom:0px;border-bottom:0.5pt solid #000000\">&nbsp;</P>\\n<P STYLE=\"line-height:3px;margin-top:0px;margin-bottom:2px;border-bottom:0.5pt solid #000000\">&nbsp;</P> <P STYLE=\"margin-top:4px;margin-bottom:0px\" ALIGN=\"center\"><FONT STYLE=\"font-family:ARIAL\" SIZE=\"5\"><B>UNITED STATES </B></FONT></P>\\n<P STYLE=\"margin-top:0px;margin-bottom:0px\" ALIGN=\"center\"><FONT STYLE=\"font-family:ARIAL\" SIZE=\"5\"><B>SECURITIES AND EXCHANGE COMMISSION </B></FONT></P> <P STYLE=\"margin-top:0px;margin-bottom:0px\" ALIGN=\"center\"><FONT\\nSTYLE=\"font-family:ARIAL\" SIZE=\"3\"><B>WASHINGTON, DC 20549 </B></FONT></P> <P STYLE=\"font-size:12px;margin-top:0px;margin-bottom:0px\">&nbsp;</P><center>\\n<P STYLE=\"line-height:6px;margin-top:0px;margin-bottom:2px;border-bottom:1pt solid #000000;width:21%\">&nbsp;</P></center> <P STYLE=\"margin-top:12px;margin-bottom:0px\" ALIGN=\"center\"><FONT STYLE=\"font-family:ARIAL\" SIZE=\"5\"><B>FORM 8-K\\n</B></FONT></P> <P STYLE=\"font-size:12px;margin-top:0px;margin-bottom:0px\">&nbsp;</P><center> <P STYLE=\"line-height:6px;margin-top:0px;margin-bottom:2px;border-bottom:1pt solid #000000;width:21%\">&nbsp;</P></center>\\n<P STYLE=\"margin-top:12px;margin-bottom:0px\" ALIGN=\"center\"><FONT STYLE=\"font-family:ARIAL\" SIZE=\"3\"><B>CURRENT REPORT </B></FONT></P> <P STYLE=\"margin-top:0px;margin-bottom:0px\" ALIGN=\"center\"><FONT STYLE=\"font-family:ARIAL\" SIZE=\"3\"><B>PURSUANT TO\\nSECTION 13 OR 15(D) </B></FONT></P> <P STYLE=\"margin-top:0px;margin-bottom:0px\" ALIGN=\"center\"><FONT STYLE=\"font-family:ARIAL\" SIZE=\"3\"><B>OF THE SECURITIES EXCHANGE ACT OF 1934 </B></FONT></P>\\n<P STYLE=\"margin-top:12px;margin-bottom:0px\" ALIGN=\"center\"><FONT STYLE=\"font-family:ARIAL\" SIZE=\"3\"><B>Date of report (Date of earliest event reported) May&nbsp;8, 2013 </B></FONT></P>\\n<P STYLE=\"font-size:12px;margin-top:0px;margin-bottom:0px\">&nbsp;</P><center> <P STYLE=\"line-height:6px;margin-top:0px;margin-bottom:2px;border-bottom:1pt solid #000000;width:21%\">&nbsp;</P></center>\\n<P STYLE=\"margin-top:12px;margin-bottom:0px\" ALIGN=\"center\"><FONT STYLE=\"font-family:ARIAL\" SIZE=\"6\"><B>Microsoft Corporation </B></FONT></P>\\n<P STYLE=\"margin-top:0px;margin-bottom:0px\" ALIGN=\"center\"><FONT STYLE=\"font-family:ARIAL\" SIZE=\"2\"><B>(Exact Name of Registrant as Specified in Its Charter) </B></FONT></P>\\n<P STYLE=\"font-size:12px;margin-top:0px;margin-bottom:0px\">&nbsp;</P><center> <P STYLE=\"line-height:6px;margin-top:0px;margin-bottom:2px;border-bottom:1pt solid #000000;width:21%\">&nbsp;</P></center>\\n<P STYLE=\"margin-top:12px;margin-bottom:0px\" ALIGN=\"center\"><FONT STYLE=\"font-family:ARIAL\" SIZE=\"2\"><B>Washington </B></FONT></P> <P STYLE=\"margin-top:0px;margin-bottom:0px\" ALIGN=\"center\"><FONT STYLE=\"font-family:ARIAL\" SIZE=\"1\"><B>(State or Other\\nJurisdiction of Incorporation) </B></FONT></P> <P STYLE=\"font-size:12px;margin-top:0px;margin-bottom:0px\">&nbsp;</P>\\n<TABLE CELLSPACING=\"0\" CELLPADDING=\"0\" WIDTH=\"100%\" BORDER=\"0\" STYLE=\"BORDER-COLLAPSE:COLLAPSE\" ALIGN=\"center\">\\n\\n\\n<TR>\\n<TD WIDTH=\"50%\"></TD>\\n<TD VALIGN=\"bottom\" WIDTH=\"1%\"></TD>\\n<TD WIDTH=\"48%\"></TD></TR>\\n\\n\\n<TR>\\n<TD VALIGN=\"top\" ALIGN=\"center\"><FONT STYLE=\"font-family:ARIAL\" SIZE=\"2\"><B>0-14278</B></FONT></TD>\\n<TD VALIGN=\"bottom\"><FONT SIZE=\"1\">&nbsp;</FONT></TD>\\n<TD VALIGN=\"top\" ALIGN=\"center\"><FONT STYLE=\"font-family:ARIAL\" SIZE=\"2\"><B>91-1144442</B></FONT></TD></TR>\\n<TR>\\n<TD VALIGN=\"top\" ALIGN=\"center\"><FONT STYLE=\"font-family:ARIAL\" SIZE=\"1\"><B>(Commission File Number)</B></FONT></TD>\\n<TD VALIGN=\"bottom\"><FONT SIZE=\"1\">&nbsp;</FONT></TD>\\n<TD VALIGN=\"top\" ALIGN=\"center\"><FONT STYLE=\"font-family:ARIAL\" SIZE=\"1\"><B>(IRS Employer&nbsp;Identification No.)</B></FONT></TD></TR>\\n<TR>\\n<TD HEIGHT=\"16\"></TD>\\n<TD HEIGHT=\"16\" COLSPAN=\"2\"></TD></TR>\\n<TR>\\n<TD VALIGN=\"top\" ALIGN=\"center\"><FONT STYLE=\"font-family:ARIAL\" SIZE=\"2\"><B>One Microsoft Way, Redmond, Washington</B></FONT></TD>\\n<TD VALIGN=\"bottom\"><FONT SIZE=\"1\">&nbsp;</FONT></TD>\\n<TD VALIGN=\"top\" ALIGN=\"center\"><FONT STYLE=\"font-family:ARIAL\" SIZE=\"2\"><B>98052-6399</B></FONT></TD></TR>\\n<TR>\\n<TD VALIGN=\"top\" ALIGN=\"center\"><FONT STYLE=\"font-family:ARIAL\" SIZE=\"1\"><B>(Address of Principal Executive Offices)</B></FONT></TD>\\n<TD VALIGN=\"bottom\"><FONT SIZE=\"1\">&nbsp;</FONT></TD>\\n<TD VALIGN=\"top\" ALIGN=\"center\"><FONT STYLE=\"font-family:ARIAL\" SIZE=\"1\"><B>(Zip Code)</B></FONT></TD></TR>\\n</TABLE> <P STYLE=\"margin-top:12px;margin-bottom:0px\" ALIGN=\"center\"><FONT STYLE=\"font-family:ARIAL\" SIZE=\"2\"><B>(425) 882-8080 </B></FONT></P> <P STYLE=\"margin-top:0px;margin-bottom:0px\" ALIGN=\"center\"><FONT\\nSTYLE=\"font-family:ARIAL\" SIZE=\"1\"><B>(Registrant&#146;s Telephone Number, Including Area Code) </B></FONT></P> <P STYLE=\"margin-top:18px;margin-bottom:0px\" ALIGN=\"center\"><FONT STYLE=\"font-family:ARIAL\" SIZE=\"1\"><B>(Former Name or Former Address,\\nif Changed Since Last Report) </B></FONT></P> <P STYLE=\"font-size:12px;margin-top:0px;margin-bottom:0px\">&nbsp;</P><center> <P STYLE=\"line-height:6px;margin-top:0px;margin-bottom:2px;border-bottom:1pt solid #000000;width:21%\">&nbsp;</P></center>\\n<P STYLE=\"margin-top:12px;margin-bottom:0px\"><FONT STYLE=\"font-family:ARIAL\" SIZE=\"2\">Check the appropriate box below if the Form 8-K filing is intended to simultaneously satisfy the filing obligation of the registrant under any of the following\\nprovisions (<I>see </I>General Instruction A.2. below): </FONT></P> <P STYLE=\"font-size:6px;margin-top:0px;margin-bottom:0px\">&nbsp;</P>\\n<TABLE STYLE=\"BORDER-COLLAPSE:COLLAPSE\" BORDER=\"0\" CELLPADDING=\"0\" CELLSPACING=\"0\" WIDTH=\"100%\">\\n<TR>\\n<TD WIDTH=\"4%\" VALIGN=\"top\" ALIGN=\"left\"><FONT STYLE=\"font-family:ARIAL\" SIZE=\"2\"><FONT STYLE=\"font-family:Times New Roman\" SIZE=\"2\"><FONT STYLE=\"FONT-FAMILY:WINGDINGS\">&#168;</FONT></FONT><FONT STYLE=\"font-family:ARIAL\" SIZE=\"2\"></FONT></FONT></TD>\\n\\n<TD ALIGN=\"left\" VALIGN=\"top\"><FONT STYLE=\"font-family:ARIAL\" SIZE=\"2\">Written communications pursuant to Rule 425 under the Securities Act (17 CFR 230.425) </FONT></TD></TR></TABLE>\\n<P STYLE=\"font-size:6px;margin-top:0px;margin-bottom:0px\">&nbsp;</P>\\n<TABLE STYLE=\"BORDER-COLLAPSE:COLLAPSE\" BORDER=\"0\" CELLPADDING=\"0\" CELLSPACING=\"0\" WIDTH=\"100%\">\\n<TR>\\n<TD WIDTH=\"4%\" VALIGN=\"top\" ALIGN=\"left\"><FONT STYLE=\"font-family:ARIAL\" SIZE=\"2\"><FONT STYLE=\"font-family:Times New Roman\" SIZE=\"2\"><FONT STYLE=\"FONT-FAMILY:WINGDINGS\">&#168;</FONT></FONT><FONT STYLE=\"font-family:ARIAL\" SIZE=\"2\"></FONT></FONT></TD>\\n\\n<TD ALIGN=\"left\" VALIGN=\"top\"><FONT STYLE=\"font-family:ARIAL\" SIZE=\"2\">Soliciting material pursuant to Rule 14a-12 under the Exchange Act (17 CFR 240.14a-12) </FONT></TD></TR></TABLE>\\n<P STYLE=\"font-size:6px;margin-top:0px;margin-bottom:0px\">&nbsp;</P>\\n<TABLE STYLE=\"BORDER-COLLAPSE:COLLAPSE\" BORDER=\"0\" CELLPADDING=\"0\" CELLSPACING=\"0\" WIDTH=\"100%\">\\n<TR>\\n<TD WIDTH=\"4%\" VALIGN=\"top\" ALIGN=\"left\"><FONT STYLE=\"font-family:ARIAL\" SIZE=\"2\"><FONT STYLE=\"font-family:Times New Roman\" SIZE=\"2\"><FONT STYLE=\"FONT-FAMILY:WINGDINGS\">&#168;</FONT></FONT><FONT STYLE=\"font-family:ARIAL\" SIZE=\"2\"></FONT></FONT></TD>\\n\\n<TD ALIGN=\"left\" VALIGN=\"top\"><FONT STYLE=\"font-family:ARIAL\" SIZE=\"2\">Pre-commencement communications pursuant to Rule 14d-2(b) under the Exchange Act (17 CFR 240.14d-2(b)) </FONT></TD></TR></TABLE>\\n<P STYLE=\"font-size:6px;margin-top:0px;margin-bottom:0px\">&nbsp;</P>\\n<TABLE STYLE=\"BORDER-COLLAPSE:COLLAPSE\" BORDER=\"0\" CELLPADDING=\"0\" CELLSPACING=\"0\" WIDTH=\"100%\">\\n<TR>\\n<TD WIDTH=\"4%\" VALIGN=\"top\" ALIGN=\"left\"><FONT STYLE=\"font-family:ARIAL\" SIZE=\"2\"><FONT STYLE=\"font-family:Times New Roman\" SIZE=\"2\"><FONT STYLE=\"FONT-FAMILY:WINGDINGS\">&#168;</FONT></FONT><FONT STYLE=\"font-family:ARIAL\" SIZE=\"2\"></FONT></FONT></TD>\\n\\n<TD ALIGN=\"left\" VALIGN=\"top\"><FONT STYLE=\"font-family:ARIAL\" SIZE=\"2\">Pre-commencement communications pursuant to Rule 13e-4(c) under the Exchange Act (17 CFR 240.13e-4(c)) </FONT></TD></TR></TABLE>\\n<P STYLE=\"font-size:10px;margin-top:0px;margin-bottom:0px\">&nbsp;</P> <P STYLE=\"line-height:0px;margin-top:0px;margin-bottom:0px;border-bottom:0.5pt solid #000000\">&nbsp;</P>\\n<P STYLE=\"line-height:3px;margin-top:0px;margin-bottom:2px;border-bottom:0.5pt solid #000000\">&nbsp;</P>\\n\\n<p Style=\\'page-break-before:always\\'>\\n<HR  SIZE=\"3\" style=\"COLOR:#999999\" WIDTH=\"100%\" ALIGN=\"CENTER\">\\n\\n\\n<TABLE STYLE=\"BORDER-COLLAPSE:COLLAPSE\" BORDER=\"0\" CELLPADDING=\"0\" CELLSPACING=\"0\" WIDTH=\"100%\">\\n<TR>\\n<TD WIDTH=\"10%\" VALIGN=\"top\" ALIGN=\"left\"><FONT STYLE=\"font-family:ARIAL\" SIZE=\"2\"><B>Item&nbsp;5.02.</B></FONT></TD>\\n<TD ALIGN=\"left\" VALIGN=\"top\"><FONT STYLE=\"font-family:ARIAL\" SIZE=\"2\"><B>Departure of Directors or Certain Officers; Election of Directors; Appointment of Certain Officers; Compensatory Arrangements of Certain Officers.\\n</B></FONT></TD></TR></TABLE> <P STYLE=\"margin-top:6px;margin-bottom:0px\"><FONT STYLE=\"font-family:ARIAL\" SIZE=\"2\">On May&nbsp;8, 2013, the Company announced the appointment of Amy Hood, age 41, to serve as chief financial officer. As chief\\nfinancial officer, Ms. Hood is responsible for leading Microsoft&#146;s worldwide finance organization, including acquisitions, corporate strategy, treasury activities, tax planning, accounting and reporting, and internal audit and investor\\nrelations. </FONT></P> <P STYLE=\"margin-top:12px;margin-bottom:0px\"><FONT STYLE=\"font-family:ARIAL\" SIZE=\"2\">Beginning in 2010, Ms. Hood was chief financial officer of the Microsoft Business Division. From 2006 through 2009, Ms.&nbsp;Hood was\\nGeneral Manager, Microsoft Business Division Strategy. </FONT></P> <P STYLE=\"margin-top:12px;margin-bottom:0px\"><FONT STYLE=\"font-family:ARIAL\" SIZE=\"2\">Since joining Microsoft in 2002, Ms. Hood has also held positions in the Server and Tools\\nBusiness and the corporate finance organization. </FONT></P> <P STYLE=\"margin-top:18px;margin-bottom:0px\" ALIGN=\"center\"><FONT STYLE=\"font-family:ARIAL\" SIZE=\"2\"><B>SIGNATURE </B></FONT></P> <P STYLE=\"margin-top:12px;margin-bottom:0px\"><FONT\\nSTYLE=\"font-family:ARIAL\" SIZE=\"2\">Pursuant to the requirements of the Securities Exchange Act of 1934, the registrant has duly caused this report to be signed on its behalf by the undersigned hereunto duly authorized. </FONT></P>\\n<P STYLE=\"font-size:12px;margin-top:0px;margin-bottom:0px\">&nbsp;</P>\\n<TABLE CELLSPACING=\"0\" CELLPADDING=\"0\" WIDTH=\"100%\" BORDER=\"0\" STYLE=\"BORDER-COLLAPSE:COLLAPSE\">\\n\\n\\n<TR>\\n<TD WIDTH=\"50%\"></TD>\\n<TD VALIGN=\"bottom\" WIDTH=\"1%\"></TD>\\n<TD WIDTH=\"49%\"></TD></TR>\\n\\n\\n<TR>\\n<TD VALIGN=\"top\"></TD>\\n<TD VALIGN=\"bottom\"><FONT SIZE=\"1\">&nbsp;</FONT></TD>\\n<TD VALIGN=\"bottom\" ALIGN=\"center\"> <P STYLE=\"margin-top:0px;margin-bottom:0px\" ALIGN=\"center\"><FONT STYLE=\"font-family:ARIAL\" SIZE=\"2\">MICROSOFT CORPORATION</FONT></P> <P STYLE=\"margin-top:0px;margin-bottom:1px\" ALIGN=\"center\"><FONT\\nSTYLE=\"font-family:ARIAL\" SIZE=\"2\">(Registrant)</FONT></P></TD></TR>\\n<TR>\\n<TD HEIGHT=\"16\"></TD>\\n<TD HEIGHT=\"16\" COLSPAN=\"2\"></TD></TR>\\n<TR>\\n<TD VALIGN=\"top\"> <P STYLE=\"margin-top:0px;margin-bottom:1px\"><FONT STYLE=\"font-family:ARIAL\" SIZE=\"2\">Date: May 13, 2013</FONT></P></TD>\\n<TD VALIGN=\"bottom\"><FONT SIZE=\"1\">&nbsp;</FONT></TD>\\n<TD VALIGN=\"bottom\"> <P STYLE=\"margin-top:0px;margin-bottom:1px;border-bottom:1px solid #000000\" ALIGN=\"center\"><FONT STYLE=\"font-family:ARIAL\" SIZE=\"2\">/s/ JOHN A. SEETHOFF</FONT></P></TD></TR>\\n<TR>\\n<TD VALIGN=\"top\"></TD>\\n<TD VALIGN=\"bottom\"><FONT SIZE=\"1\">&nbsp;</FONT></TD>\\n<TD VALIGN=\"bottom\" ALIGN=\"center\"><FONT STYLE=\"font-family:ARIAL\" SIZE=\"1\"><B>John A. Seethoff</B></FONT></TD></TR>\\n<TR>\\n<TD VALIGN=\"top\"></TD>\\n<TD VALIGN=\"bottom\"><FONT SIZE=\"1\">&nbsp;</FONT></TD>\\n<TD VALIGN=\"bottom\" ALIGN=\"center\"><FONT STYLE=\"font-family:ARIAL\" SIZE=\"1\"><B>Assistant Secretary</B></FONT></TD></TR>\\n</TABLE>\\n <p STYLE=\"margin-top:0px;margin-bottom:0px\"><FONT SIZE=\"1\">&nbsp;</FONT></P> <P STYLE=\"margin-top:0px;margin-bottom:0px\" ALIGN=\"center\"><FONT STYLE=\"font-family:ARIAL\" SIZE=\"2\">2 </FONT></P>\\n\\n</BODY></HTML>\\n</TEXT>\\n</DOCUMENT>\\n</SEC-DOCUMENT>\\n'"
      ]
     },
     "execution_count": 15,
     "metadata": {},
     "output_type": "execute_result"
    }
   ],
   "source": [
    "filings[0]"
   ]
  },
  {
   "cell_type": "code",
   "execution_count": 16,
   "metadata": {
    "scrolled": true
   },
   "outputs": [
    {
     "data": {
      "text/plain": [
       "100"
      ]
     },
     "execution_count": 16,
     "metadata": {},
     "output_type": "execute_result"
    }
   ],
   "source": [
    "len(filings)"
   ]
  },
  {
   "cell_type": "code",
   "execution_count": 17,
   "metadata": {},
   "outputs": [
    {
     "data": {
      "text/plain": [
       "(13101, 460536)"
      ]
     },
     "execution_count": 17,
     "metadata": {},
     "output_type": "execute_result"
    }
   ],
   "source": [
    "len(filings[0]), len(filings[1])"
   ]
  },
  {
   "cell_type": "markdown",
   "metadata": {},
   "source": [
    "# Create a data frame to fill in with data"
   ]
  },
  {
   "cell_type": "code",
   "execution_count": 18,
   "metadata": {},
   "outputs": [],
   "source": [
    "# df1 = pd.DataFrame(index=range(0,10))\n",
    "# df1"
   ]
  },
  {
   "cell_type": "code",
   "execution_count": 19,
   "metadata": {},
   "outputs": [],
   "source": [
    "doc_ref_s = []\n",
    "for text in filings:\n",
    "    document_ref = re.search(r'<SEC-DOCUMENT>\\s*([\\w-]+)', text)\n",
    "    document_ref = document_ref.group(1)\n",
    "    doc_ref_s.append(document_ref)"
   ]
  },
  {
   "cell_type": "code",
   "execution_count": 20,
   "metadata": {},
   "outputs": [],
   "source": [
    "#doc_ref_s"
   ]
  },
  {
   "cell_type": "code",
   "execution_count": 21,
   "metadata": {},
   "outputs": [
    {
     "data": {
      "text/plain": [
       "(100, 1)"
      ]
     },
     "execution_count": 21,
     "metadata": {},
     "output_type": "execute_result"
    }
   ],
   "source": [
    "df1 = pd.DataFrame(data=doc_ref_s, columns=['document_ref'])\n",
    "df1.shape"
   ]
  },
  {
   "cell_type": "code",
   "execution_count": 22,
   "metadata": {},
   "outputs": [
    {
     "data": {
      "text/plain": [
       "(100, 2)"
      ]
     },
     "execution_count": 22,
     "metadata": {},
     "output_type": "execute_result"
    }
   ],
   "source": [
    "company_name_s = []\n",
    "for text in filings:\n",
    "    company_name = re.search(r'COMPANY CONFORMED NAME:\\s*([\\w-]+)', text)\n",
    "    company_name = company_name.group(1)\n",
    "    company_name_s.append(company_name)\n",
    "df1['company_name'] = company_name_s\n",
    "df1.shape"
   ]
  },
  {
   "cell_type": "code",
   "execution_count": 23,
   "metadata": {},
   "outputs": [
    {
     "data": {
      "text/plain": [
       "(100,)"
      ]
     },
     "execution_count": 23,
     "metadata": {},
     "output_type": "execute_result"
    }
   ],
   "source": [
    "filing_date_s = []\n",
    "for text in filings:\n",
    "    filing_date = re.search(r'FILED AS OF DATE:\\s*([\\w-]+)', text)\n",
    "    filing_date = filing_date.group(1)\n",
    "    filing_date_s.append(filing_date)\n",
    "np.asarray(filing_date_s).shape"
   ]
  },
  {
   "cell_type": "code",
   "execution_count": 24,
   "metadata": {},
   "outputs": [
    {
     "data": {
      "text/plain": [
       "(100, 3)"
      ]
     },
     "execution_count": 24,
     "metadata": {},
     "output_type": "execute_result"
    }
   ],
   "source": [
    "df1['filing_date'] = filing_date_s\n",
    "df1.shape"
   ]
  },
  {
   "cell_type": "code",
   "execution_count": 25,
   "metadata": {},
   "outputs": [],
   "source": [
    "date_str_s = []\n",
    "for dates in filing_date_s:\n",
    "    date_str = dates # The date - 29 Dec 2017\n",
    "    format_str = '%Y%m%d' # The df1format\n",
    "    datetime_obj = datetime.datetime.strptime(date_str, format_str)\n",
    "    date = datetime_obj.date()\n",
    "    date_str_s.append(date)"
   ]
  },
  {
   "cell_type": "code",
   "execution_count": 26,
   "metadata": {},
   "outputs": [],
   "source": [
    "#date_str_s"
   ]
  },
  {
   "cell_type": "code",
   "execution_count": 27,
   "metadata": {},
   "outputs": [
    {
     "data": {
      "text/plain": [
       "(100, 4)"
      ]
     },
     "execution_count": 27,
     "metadata": {},
     "output_type": "execute_result"
    }
   ],
   "source": [
    "df1['date_str'] = date_str_s\n",
    "df1.shape"
   ]
  },
  {
   "cell_type": "code",
   "execution_count": 28,
   "metadata": {},
   "outputs": [],
   "source": [
    "filing_date_s = []\n",
    "for text in filings:\n",
    "    filing_date = re.search(r'FILED AS OF DATE:\\s*([\\w-]+)', text)\n",
    "    filing_date = filing_date.group(1)\n",
    "    filing_date_s.append(filing_date)\n",
    "#filing_date_s"
   ]
  },
  {
   "cell_type": "code",
   "execution_count": 29,
   "metadata": {},
   "outputs": [
    {
     "data": {
      "text/plain": [
       "(100, 5)"
      ]
     },
     "execution_count": 29,
     "metadata": {},
     "output_type": "execute_result"
    }
   ],
   "source": [
    "filing_type_s = []\n",
    "for text in filings:\n",
    "    filing_type = re.search(r'CONFORMED SUBMISSION TYPE:\\s*([\\w-]+)', text)\n",
    "    filing_type = filing_type.group(1)\n",
    "    filing_type_s.append(filing_type)\n",
    "df1['filing_type'] = filing_type\n",
    "df1.shape"
   ]
  },
  {
   "cell_type": "code",
   "execution_count": 30,
   "metadata": {},
   "outputs": [],
   "source": [
    "k8s = df1.to_csv('./k8s_100MSFT.csv')"
   ]
  },
  {
   "cell_type": "code",
   "execution_count": 31,
   "metadata": {},
   "outputs": [],
   "source": [
    "import pandas as pd\n",
    "import regex as re\n",
    "import datetime\n",
    "import os \n",
    "from datetime import timedelta\n",
    "from yahoo_fin.stock_info import *"
   ]
  },
  {
   "cell_type": "code",
   "execution_count": 32,
   "metadata": {},
   "outputs": [
    {
     "data": {
      "text/html": [
       "<div>\n",
       "<style scoped>\n",
       "    .dataframe tbody tr th:only-of-type {\n",
       "        vertical-align: middle;\n",
       "    }\n",
       "\n",
       "    .dataframe tbody tr th {\n",
       "        vertical-align: top;\n",
       "    }\n",
       "\n",
       "    .dataframe thead th {\n",
       "        text-align: right;\n",
       "    }\n",
       "</style>\n",
       "<table border=\"1\" class=\"dataframe\">\n",
       "  <thead>\n",
       "    <tr style=\"text-align: right;\">\n",
       "      <th></th>\n",
       "      <th>document_ref</th>\n",
       "      <th>company_name</th>\n",
       "      <th>filing_date</th>\n",
       "      <th>date_str</th>\n",
       "      <th>filing_type</th>\n",
       "    </tr>\n",
       "  </thead>\n",
       "  <tbody>\n",
       "    <tr>\n",
       "      <th>0</th>\n",
       "      <td>0001193125-13-216952</td>\n",
       "      <td>MICROSOFT</td>\n",
       "      <td>20130513</td>\n",
       "      <td>2013-05-13</td>\n",
       "      <td>8-K</td>\n",
       "    </tr>\n",
       "    <tr>\n",
       "      <th>1</th>\n",
       "      <td>0001193125-17-232047</td>\n",
       "      <td>MICROSOFT</td>\n",
       "      <td>20170720</td>\n",
       "      <td>2017-07-20</td>\n",
       "      <td>8-K</td>\n",
       "    </tr>\n",
       "    <tr>\n",
       "      <th>2</th>\n",
       "      <td>0001193125-15-247530</td>\n",
       "      <td>MICROSOFT</td>\n",
       "      <td>20150708</td>\n",
       "      <td>2015-07-08</td>\n",
       "      <td>8-K</td>\n",
       "    </tr>\n",
       "    <tr>\n",
       "      <th>3</th>\n",
       "      <td>0001193125-16-619689</td>\n",
       "      <td>MICROSOFT</td>\n",
       "      <td>20160613</td>\n",
       "      <td>2016-06-13</td>\n",
       "      <td>8-K</td>\n",
       "    </tr>\n",
       "    <tr>\n",
       "      <th>4</th>\n",
       "      <td>0001193125-12-292236</td>\n",
       "      <td>MICROSOFT</td>\n",
       "      <td>20120702</td>\n",
       "      <td>2012-07-02</td>\n",
       "      <td>8-K</td>\n",
       "    </tr>\n",
       "  </tbody>\n",
       "</table>\n",
       "</div>"
      ],
      "text/plain": [
       "           document_ref company_name  filing_date    date_str filing_type\n",
       "0  0001193125-13-216952    MICROSOFT     20130513  2013-05-13         8-K\n",
       "1  0001193125-17-232047    MICROSOFT     20170720  2017-07-20         8-K\n",
       "2  0001193125-15-247530    MICROSOFT     20150708  2015-07-08         8-K\n",
       "3  0001193125-16-619689    MICROSOFT     20160613  2016-06-13         8-K\n",
       "4  0001193125-12-292236    MICROSOFT     20120702  2012-07-02         8-K"
      ]
     },
     "execution_count": 32,
     "metadata": {},
     "output_type": "execute_result"
    }
   ],
   "source": [
    "df3 = pd.read_csv('./k8s_100MSFT.csv', index_col=0)\n",
    "df3.head()"
   ]
  },
  {
   "cell_type": "code",
   "execution_count": 33,
   "metadata": {},
   "outputs": [],
   "source": [
    "path=os.getcwd()\n",
    "\n",
    "for root, dirs, files in os.walk(path):\n",
    "    #root \n",
    "    text_files = [file for file in files if '.txt' in file]\n",
    "    break"
   ]
  },
  {
   "cell_type": "code",
   "execution_count": 34,
   "metadata": {},
   "outputs": [],
   "source": [
    "filings = []\n",
    "for file in text_files:\n",
    "    with open(file,\"r\") as text_file:\n",
    "        text = text_file.read()\n",
    "        filings.append(text)"
   ]
  },
  {
   "cell_type": "code",
   "execution_count": 35,
   "metadata": {},
   "outputs": [
    {
     "data": {
      "text/plain": [
       "100"
      ]
     },
     "execution_count": 35,
     "metadata": {},
     "output_type": "execute_result"
    }
   ],
   "source": [
    "len(filings)"
   ]
  },
  {
   "cell_type": "code",
   "execution_count": 38,
   "metadata": {},
   "outputs": [
    {
     "data": {
      "text/plain": [
       "2322"
      ]
     },
     "execution_count": 38,
     "metadata": {},
     "output_type": "execute_result"
    }
   ],
   "source": [
    "with open(\"../negative_words.txt\",\"r\") as negative_words:\n",
    "    negative_words = negative_words.readlines()\n",
    "    negative_words = [x.lower().replace('\\n',\"\") for x in negative_words]\n",
    "\n",
    "# i want them to repeat, if not I would use the set property: \n",
    "# negative_words = list(set(negative_words))\n",
    "len(negative_words)"
   ]
  },
  {
   "cell_type": "code",
   "execution_count": 39,
   "metadata": {},
   "outputs": [],
   "source": [
    "list_of_lists=[]\n",
    "for filing in filings:\n",
    "    list_of_words=[]\n",
    "    for word in (negative_words):\n",
    "        if word in filing:\n",
    "            list_of_words.append(word)\n",
    "    list_of_lists.append(list_of_words)"
   ]
  },
  {
   "cell_type": "code",
   "execution_count": 40,
   "metadata": {},
   "outputs": [
    {
     "data": {
      "text/plain": [
       "100"
      ]
     },
     "execution_count": 40,
     "metadata": {},
     "output_type": "execute_result"
    }
   ],
   "source": [
    "len(list_of_lists)"
   ]
  },
  {
   "cell_type": "code",
   "execution_count": 41,
   "metadata": {},
   "outputs": [
    {
     "data": {
      "text/plain": [
       "(4, 65, 52)"
      ]
     },
     "execution_count": 41,
     "metadata": {},
     "output_type": "execute_result"
    }
   ],
   "source": [
    "len(list_of_lists[0]), len(list_of_lists[1]),len(list_of_lists[-1])"
   ]
  },
  {
   "cell_type": "code",
   "execution_count": 42,
   "metadata": {},
   "outputs": [],
   "source": [
    "list_of_negstrings = []\n",
    "for neglist in list_of_lists:\n",
    "    negative_string = \"\"\n",
    "    for negword in neglist:\n",
    "        negative_string += str(negword) + \" \"\n",
    "    negative_string = negative_string[:-1] # play with position of this one\n",
    "    list_of_negstrings.append(negative_string)"
   ]
  },
  {
   "cell_type": "code",
   "execution_count": 43,
   "metadata": {},
   "outputs": [
    {
     "data": {
      "text/plain": [
       "100"
      ]
     },
     "execution_count": 43,
     "metadata": {},
     "output_type": "execute_result"
    }
   ],
   "source": [
    "len(list_of_negstrings)"
   ]
  },
  {
   "cell_type": "code",
   "execution_count": 44,
   "metadata": {},
   "outputs": [],
   "source": [
    "df3['neg_text'] = list_of_negstrings"
   ]
  },
  {
   "cell_type": "code",
   "execution_count": 45,
   "metadata": {},
   "outputs": [
    {
     "data": {
      "text/html": [
       "<div>\n",
       "<style scoped>\n",
       "    .dataframe tbody tr th:only-of-type {\n",
       "        vertical-align: middle;\n",
       "    }\n",
       "\n",
       "    .dataframe tbody tr th {\n",
       "        vertical-align: top;\n",
       "    }\n",
       "\n",
       "    .dataframe thead th {\n",
       "        text-align: right;\n",
       "    }\n",
       "</style>\n",
       "<table border=\"1\" class=\"dataframe\">\n",
       "  <thead>\n",
       "    <tr style=\"text-align: right;\">\n",
       "      <th></th>\n",
       "      <th>document_ref</th>\n",
       "      <th>company_name</th>\n",
       "      <th>filing_date</th>\n",
       "      <th>date_str</th>\n",
       "      <th>filing_type</th>\n",
       "      <th>neg_text</th>\n",
       "    </tr>\n",
       "  </thead>\n",
       "  <tbody>\n",
       "    <tr>\n",
       "      <th>0</th>\n",
       "      <td>0001193125-13-216952</td>\n",
       "      <td>MICROSOFT</td>\n",
       "      <td>20130513</td>\n",
       "      <td>2013-05-13</td>\n",
       "      <td>8-K</td>\n",
       "      <td>break cut lie miss</td>\n",
       "    </tr>\n",
       "    <tr>\n",
       "      <th>1</th>\n",
       "      <td>0001193125-17-232047</td>\n",
       "      <td>MICROSOFT</td>\n",
       "      <td>20170720</td>\n",
       "      <td>2017-07-20</td>\n",
       "      <td>8-K</td>\n",
       "      <td>adverse against break bridge catastrophic clai...</td>\n",
       "    </tr>\n",
       "    <tr>\n",
       "      <th>2</th>\n",
       "      <td>0001193125-15-247530</td>\n",
       "      <td>MICROSOFT</td>\n",
       "      <td>20150708</td>\n",
       "      <td>2015-07-08</td>\n",
       "      <td>8-K</td>\n",
       "      <td>break closure cut ill impair impairment late l...</td>\n",
       "    </tr>\n",
       "    <tr>\n",
       "      <th>3</th>\n",
       "      <td>0001193125-16-619689</td>\n",
       "      <td>MICROSOFT</td>\n",
       "      <td>20160613</td>\n",
       "      <td>2016-06-13</td>\n",
       "      <td>8-K</td>\n",
       "      <td>adverse adversely against break cancel cancell...</td>\n",
       "    </tr>\n",
       "    <tr>\n",
       "      <th>4</th>\n",
       "      <td>0001193125-12-292236</td>\n",
       "      <td>MICROSOFT</td>\n",
       "      <td>20120702</td>\n",
       "      <td>2012-07-02</td>\n",
       "      <td>8-K</td>\n",
       "      <td>break cut deter easing ill impair impairment l...</td>\n",
       "    </tr>\n",
       "  </tbody>\n",
       "</table>\n",
       "</div>"
      ],
      "text/plain": [
       "           document_ref company_name  filing_date    date_str filing_type  \\\n",
       "0  0001193125-13-216952    MICROSOFT     20130513  2013-05-13         8-K   \n",
       "1  0001193125-17-232047    MICROSOFT     20170720  2017-07-20         8-K   \n",
       "2  0001193125-15-247530    MICROSOFT     20150708  2015-07-08         8-K   \n",
       "3  0001193125-16-619689    MICROSOFT     20160613  2016-06-13         8-K   \n",
       "4  0001193125-12-292236    MICROSOFT     20120702  2012-07-02         8-K   \n",
       "\n",
       "                                            neg_text  \n",
       "0                                 break cut lie miss  \n",
       "1  adverse against break bridge catastrophic clai...  \n",
       "2  break closure cut ill impair impairment late l...  \n",
       "3  adverse adversely against break cancel cancell...  \n",
       "4  break cut deter easing ill impair impairment l...  "
      ]
     },
     "execution_count": 45,
     "metadata": {},
     "output_type": "execute_result"
    }
   ],
   "source": [
    "df3.head()"
   ]
  },
  {
   "cell_type": "code",
   "execution_count": 46,
   "metadata": {},
   "outputs": [
    {
     "data": {
      "text/plain": [
       "(100, 6)"
      ]
     },
     "execution_count": 46,
     "metadata": {},
     "output_type": "execute_result"
    }
   ],
   "source": [
    "df3.shape"
   ]
  },
  {
   "cell_type": "code",
   "execution_count": 47,
   "metadata": {},
   "outputs": [],
   "source": [
    "df3.to_csv('./k8s_msft100.csv')"
   ]
  },
  {
   "cell_type": "code",
   "execution_count": 48,
   "metadata": {},
   "outputs": [
    {
     "data": {
      "text/html": [
       "<div>\n",
       "<style scoped>\n",
       "    .dataframe tbody tr th:only-of-type {\n",
       "        vertical-align: middle;\n",
       "    }\n",
       "\n",
       "    .dataframe tbody tr th {\n",
       "        vertical-align: top;\n",
       "    }\n",
       "\n",
       "    .dataframe thead th {\n",
       "        text-align: right;\n",
       "    }\n",
       "</style>\n",
       "<table border=\"1\" class=\"dataframe\">\n",
       "  <thead>\n",
       "    <tr style=\"text-align: right;\">\n",
       "      <th></th>\n",
       "      <th>document_ref</th>\n",
       "      <th>company_name</th>\n",
       "      <th>filing_date</th>\n",
       "      <th>date_str</th>\n",
       "      <th>filing_type</th>\n",
       "      <th>neg_text</th>\n",
       "    </tr>\n",
       "  </thead>\n",
       "  <tbody>\n",
       "    <tr>\n",
       "      <th>0</th>\n",
       "      <td>0001193125-13-216952</td>\n",
       "      <td>MICROSOFT</td>\n",
       "      <td>20130513</td>\n",
       "      <td>2013-05-13</td>\n",
       "      <td>8-K</td>\n",
       "      <td>break cut lie miss</td>\n",
       "    </tr>\n",
       "    <tr>\n",
       "      <th>1</th>\n",
       "      <td>0001193125-17-232047</td>\n",
       "      <td>MICROSOFT</td>\n",
       "      <td>20170720</td>\n",
       "      <td>2017-07-20</td>\n",
       "      <td>8-K</td>\n",
       "      <td>adverse against break bridge catastrophic clai...</td>\n",
       "    </tr>\n",
       "    <tr>\n",
       "      <th>2</th>\n",
       "      <td>0001193125-15-247530</td>\n",
       "      <td>MICROSOFT</td>\n",
       "      <td>20150708</td>\n",
       "      <td>2015-07-08</td>\n",
       "      <td>8-K</td>\n",
       "      <td>break closure cut ill impair impairment late l...</td>\n",
       "    </tr>\n",
       "    <tr>\n",
       "      <th>3</th>\n",
       "      <td>0001193125-16-619689</td>\n",
       "      <td>MICROSOFT</td>\n",
       "      <td>20160613</td>\n",
       "      <td>2016-06-13</td>\n",
       "      <td>8-K</td>\n",
       "      <td>adverse adversely against break cancel cancell...</td>\n",
       "    </tr>\n",
       "    <tr>\n",
       "      <th>4</th>\n",
       "      <td>0001193125-12-292236</td>\n",
       "      <td>MICROSOFT</td>\n",
       "      <td>20120702</td>\n",
       "      <td>2012-07-02</td>\n",
       "      <td>8-K</td>\n",
       "      <td>break cut deter easing ill impair impairment l...</td>\n",
       "    </tr>\n",
       "  </tbody>\n",
       "</table>\n",
       "</div>"
      ],
      "text/plain": [
       "           document_ref company_name  filing_date    date_str filing_type  \\\n",
       "0  0001193125-13-216952    MICROSOFT     20130513  2013-05-13         8-K   \n",
       "1  0001193125-17-232047    MICROSOFT     20170720  2017-07-20         8-K   \n",
       "2  0001193125-15-247530    MICROSOFT     20150708  2015-07-08         8-K   \n",
       "3  0001193125-16-619689    MICROSOFT     20160613  2016-06-13         8-K   \n",
       "4  0001193125-12-292236    MICROSOFT     20120702  2012-07-02         8-K   \n",
       "\n",
       "                                            neg_text  \n",
       "0                                 break cut lie miss  \n",
       "1  adverse against break bridge catastrophic clai...  \n",
       "2  break closure cut ill impair impairment late l...  \n",
       "3  adverse adversely against break cancel cancell...  \n",
       "4  break cut deter easing ill impair impairment l...  "
      ]
     },
     "execution_count": 48,
     "metadata": {},
     "output_type": "execute_result"
    }
   ],
   "source": [
    "msft = pd.read_csv('./k8s_msft100.csv', index_col=0)\n",
    "msft.head()"
   ]
  },
  {
   "cell_type": "code",
   "execution_count": 49,
   "metadata": {},
   "outputs": [],
   "source": [
    "msft['ticker'] = msft['company_name'].map({'MICROSOFT': 'MSFT', 'Microsoft':'MSFT'})"
   ]
  },
  {
   "cell_type": "code",
   "execution_count": 50,
   "metadata": {},
   "outputs": [
    {
     "data": {
      "text/plain": [
       "(100, 7)"
      ]
     },
     "execution_count": 50,
     "metadata": {},
     "output_type": "execute_result"
    }
   ],
   "source": [
    "msft.shape"
   ]
  },
  {
   "cell_type": "code",
   "execution_count": 53,
   "metadata": {},
   "outputs": [],
   "source": [
    "msft['date_str']= pd.to_datetime(msft['date_str'], format = '%Y-%m-%d')"
   ]
  },
  {
   "cell_type": "code",
   "execution_count": 54,
   "metadata": {},
   "outputs": [],
   "source": [
    "msft['date_str_p1']=msft['date_str'].apply (lambda row: row+timedelta(days=1))"
   ]
  },
  {
   "cell_type": "code",
   "execution_count": 55,
   "metadata": {},
   "outputs": [],
   "source": [
    "msft['date_str_p3']=msft['date_str'].apply (lambda row: row+timedelta(days=3))"
   ]
  },
  {
   "cell_type": "code",
   "execution_count": 56,
   "metadata": {},
   "outputs": [],
   "source": [
    "msft['date_str_p7']=msft['date_str'].apply (lambda row: row+timedelta(days=7))"
   ]
  },
  {
   "cell_type": "code",
   "execution_count": 57,
   "metadata": {},
   "outputs": [],
   "source": [
    "msft = msft.sort_values(by=['date_str'])"
   ]
  },
  {
   "cell_type": "code",
   "execution_count": 58,
   "metadata": {},
   "outputs": [],
   "source": [
    "# no need for dot-drop when you spell-out the cols contained in the df\n",
    "cols = ['ticker', 'date_str', 'neg_text', 'date_str_p1', 'date_str_p3', 'date_str_p7']\n",
    "msft = msft[cols]"
   ]
  },
  {
   "cell_type": "code",
   "execution_count": 59,
   "metadata": {
    "scrolled": true
   },
   "outputs": [
    {
     "data": {
      "text/html": [
       "<div>\n",
       "<style scoped>\n",
       "    .dataframe tbody tr th:only-of-type {\n",
       "        vertical-align: middle;\n",
       "    }\n",
       "\n",
       "    .dataframe tbody tr th {\n",
       "        vertical-align: top;\n",
       "    }\n",
       "\n",
       "    .dataframe thead th {\n",
       "        text-align: right;\n",
       "    }\n",
       "</style>\n",
       "<table border=\"1\" class=\"dataframe\">\n",
       "  <thead>\n",
       "    <tr style=\"text-align: right;\">\n",
       "      <th></th>\n",
       "      <th>ticker</th>\n",
       "      <th>date_str</th>\n",
       "      <th>neg_text</th>\n",
       "      <th>date_str_p1</th>\n",
       "      <th>date_str_p3</th>\n",
       "      <th>date_str_p7</th>\n",
       "    </tr>\n",
       "  </thead>\n",
       "  <tbody>\n",
       "    <tr>\n",
       "      <th>92</th>\n",
       "      <td>MSFT</td>\n",
       "      <td>2018-09-19</td>\n",
       "      <td>adverse adversely against alienation break cla...</td>\n",
       "      <td>2018-09-20</td>\n",
       "      <td>2018-09-22</td>\n",
       "      <td>2018-09-26</td>\n",
       "    </tr>\n",
       "    <tr>\n",
       "      <th>96</th>\n",
       "      <td>MSFT</td>\n",
       "      <td>2018-10-24</td>\n",
       "      <td>abuse adverse against break catastrophic claim...</td>\n",
       "      <td>2018-10-25</td>\n",
       "      <td>2018-10-27</td>\n",
       "      <td>2018-10-31</td>\n",
       "    </tr>\n",
       "    <tr>\n",
       "      <th>15</th>\n",
       "      <td>MSFT</td>\n",
       "      <td>2018-11-29</td>\n",
       "      <td>break cut fined ill lie lying miss</td>\n",
       "      <td>2018-11-30</td>\n",
       "      <td>2018-12-02</td>\n",
       "      <td>2018-12-06</td>\n",
       "    </tr>\n",
       "    <tr>\n",
       "      <th>9</th>\n",
       "      <td>MSFT</td>\n",
       "      <td>2019-01-30</td>\n",
       "      <td>abuse adverse against break catastrophic claim...</td>\n",
       "      <td>2019-01-31</td>\n",
       "      <td>2019-02-02</td>\n",
       "      <td>2019-02-06</td>\n",
       "    </tr>\n",
       "    <tr>\n",
       "      <th>95</th>\n",
       "      <td>MSFT</td>\n",
       "      <td>2019-04-24</td>\n",
       "      <td>abuse adverse against break catastrophic claim...</td>\n",
       "      <td>2019-04-25</td>\n",
       "      <td>2019-04-27</td>\n",
       "      <td>2019-05-01</td>\n",
       "    </tr>\n",
       "  </tbody>\n",
       "</table>\n",
       "</div>"
      ],
      "text/plain": [
       "   ticker   date_str                                           neg_text  \\\n",
       "92   MSFT 2018-09-19  adverse adversely against alienation break cla...   \n",
       "96   MSFT 2018-10-24  abuse adverse against break catastrophic claim...   \n",
       "15   MSFT 2018-11-29                 break cut fined ill lie lying miss   \n",
       "9    MSFT 2019-01-30  abuse adverse against break catastrophic claim...   \n",
       "95   MSFT 2019-04-24  abuse adverse against break catastrophic claim...   \n",
       "\n",
       "   date_str_p1 date_str_p3 date_str_p7  \n",
       "92  2018-09-20  2018-09-22  2018-09-26  \n",
       "96  2018-10-25  2018-10-27  2018-10-31  \n",
       "15  2018-11-30  2018-12-02  2018-12-06  \n",
       "9   2019-01-31  2019-02-02  2019-02-06  \n",
       "95  2019-04-25  2019-04-27  2019-05-01  "
      ]
     },
     "execution_count": 59,
     "metadata": {},
     "output_type": "execute_result"
    }
   ],
   "source": [
    "msft.tail()"
   ]
  },
  {
   "cell_type": "code",
   "execution_count": 60,
   "metadata": {},
   "outputs": [],
   "source": [
    "# do NOT re-run, as it will create another index\n",
    "msft.reset_index(inplace=True)\n",
    "msft.drop(columns='index', axis=1, inplace=True)"
   ]
  },
  {
   "cell_type": "code",
   "execution_count": 61,
   "metadata": {},
   "outputs": [
    {
     "data": {
      "text/html": [
       "<div>\n",
       "<style scoped>\n",
       "    .dataframe tbody tr th:only-of-type {\n",
       "        vertical-align: middle;\n",
       "    }\n",
       "\n",
       "    .dataframe tbody tr th {\n",
       "        vertical-align: top;\n",
       "    }\n",
       "\n",
       "    .dataframe thead th {\n",
       "        text-align: right;\n",
       "    }\n",
       "</style>\n",
       "<table border=\"1\" class=\"dataframe\">\n",
       "  <thead>\n",
       "    <tr style=\"text-align: right;\">\n",
       "      <th></th>\n",
       "      <th>ticker</th>\n",
       "      <th>date_str</th>\n",
       "      <th>neg_text</th>\n",
       "      <th>date_str_p1</th>\n",
       "      <th>date_str_p3</th>\n",
       "      <th>date_str_p7</th>\n",
       "    </tr>\n",
       "  </thead>\n",
       "  <tbody>\n",
       "    <tr>\n",
       "      <th>0</th>\n",
       "      <td>MSFT</td>\n",
       "      <td>2010-11-19</td>\n",
       "      <td>break cut ill inability lie miss reject rejected</td>\n",
       "      <td>2010-11-20</td>\n",
       "      <td>2010-11-22</td>\n",
       "      <td>2010-11-26</td>\n",
       "    </tr>\n",
       "    <tr>\n",
       "      <th>1</th>\n",
       "      <td>MSFT</td>\n",
       "      <td>2011-01-27</td>\n",
       "      <td>adverse adversely break catastrophic challenge...</td>\n",
       "      <td>2011-01-28</td>\n",
       "      <td>2011-01-30</td>\n",
       "      <td>2011-02-03</td>\n",
       "    </tr>\n",
       "    <tr>\n",
       "      <th>2</th>\n",
       "      <td>MSFT</td>\n",
       "      <td>2011-02-08</td>\n",
       "      <td>adverse against allege alleged arrears bankrup...</td>\n",
       "      <td>2011-02-09</td>\n",
       "      <td>2011-02-11</td>\n",
       "      <td>2011-02-15</td>\n",
       "    </tr>\n",
       "    <tr>\n",
       "      <th>3</th>\n",
       "      <td>MSFT</td>\n",
       "      <td>2011-04-28</td>\n",
       "      <td>adverse adversely break catastrophic challenge...</td>\n",
       "      <td>2011-04-29</td>\n",
       "      <td>2011-05-01</td>\n",
       "      <td>2011-05-05</td>\n",
       "    </tr>\n",
       "    <tr>\n",
       "      <th>4</th>\n",
       "      <td>MSFT</td>\n",
       "      <td>2011-05-10</td>\n",
       "      <td>adverse adversely barrier barriers break catas...</td>\n",
       "      <td>2011-05-11</td>\n",
       "      <td>2011-05-13</td>\n",
       "      <td>2011-05-17</td>\n",
       "    </tr>\n",
       "  </tbody>\n",
       "</table>\n",
       "</div>"
      ],
      "text/plain": [
       "  ticker   date_str                                           neg_text  \\\n",
       "0   MSFT 2010-11-19   break cut ill inability lie miss reject rejected   \n",
       "1   MSFT 2011-01-27  adverse adversely break catastrophic challenge...   \n",
       "2   MSFT 2011-02-08  adverse against allege alleged arrears bankrup...   \n",
       "3   MSFT 2011-04-28  adverse adversely break catastrophic challenge...   \n",
       "4   MSFT 2011-05-10  adverse adversely barrier barriers break catas...   \n",
       "\n",
       "  date_str_p1 date_str_p3 date_str_p7  \n",
       "0  2010-11-20  2010-11-22  2010-11-26  \n",
       "1  2011-01-28  2011-01-30  2011-02-03  \n",
       "2  2011-02-09  2011-02-11  2011-02-15  \n",
       "3  2011-04-29  2011-05-01  2011-05-05  \n",
       "4  2011-05-11  2011-05-13  2011-05-17  "
      ]
     },
     "execution_count": 61,
     "metadata": {},
     "output_type": "execute_result"
    }
   ],
   "source": [
    "msft.head()"
   ]
  },
  {
   "cell_type": "code",
   "execution_count": 62,
   "metadata": {},
   "outputs": [
    {
     "data": {
      "text/plain": [
       "(100, 6)"
      ]
     },
     "execution_count": 62,
     "metadata": {},
     "output_type": "execute_result"
    }
   ],
   "source": [
    "msft.shape"
   ]
  },
  {
   "cell_type": "code",
   "execution_count": 63,
   "metadata": {},
   "outputs": [],
   "source": [
    "msft.rename(columns={'date_str': 'date', 'date_str_p1': 'date_1', 'date_str_p3':'date_3',\n",
    "                    'date_str_p7': 'date_7'}, inplace=True)"
   ]
  },
  {
   "cell_type": "code",
   "execution_count": 64,
   "metadata": {},
   "outputs": [],
   "source": [
    "msft.to_csv('./k8_msft_11.csv')"
   ]
  },
  {
   "cell_type": "code",
   "execution_count": 65,
   "metadata": {},
   "outputs": [
    {
     "data": {
      "text/plain": [
       "(3105, 7)"
      ]
     },
     "execution_count": 65,
     "metadata": {},
     "output_type": "execute_result"
    }
   ],
   "source": [
    "msft = get_data('MSFT', start_date = '2007/01/01', end_date = '2019/05/05', index_as_date = True)\n",
    "msft.shape"
   ]
  },
  {
   "cell_type": "code",
   "execution_count": 66,
   "metadata": {},
   "outputs": [],
   "source": [
    "msft.to_csv('./msft_yahoo_2009_today.csv')"
   ]
  },
  {
   "cell_type": "code",
   "execution_count": 67,
   "metadata": {},
   "outputs": [
    {
     "data": {
      "text/html": [
       "<div>\n",
       "<style scoped>\n",
       "    .dataframe tbody tr th:only-of-type {\n",
       "        vertical-align: middle;\n",
       "    }\n",
       "\n",
       "    .dataframe tbody tr th {\n",
       "        vertical-align: top;\n",
       "    }\n",
       "\n",
       "    .dataframe thead th {\n",
       "        text-align: right;\n",
       "    }\n",
       "</style>\n",
       "<table border=\"1\" class=\"dataframe\">\n",
       "  <thead>\n",
       "    <tr style=\"text-align: right;\">\n",
       "      <th></th>\n",
       "      <th>open</th>\n",
       "      <th>high</th>\n",
       "      <th>low</th>\n",
       "      <th>close</th>\n",
       "      <th>adjclose</th>\n",
       "      <th>volume</th>\n",
       "      <th>ticker</th>\n",
       "    </tr>\n",
       "    <tr>\n",
       "      <th>date</th>\n",
       "      <th></th>\n",
       "      <th></th>\n",
       "      <th></th>\n",
       "      <th></th>\n",
       "      <th></th>\n",
       "      <th></th>\n",
       "      <th></th>\n",
       "    </tr>\n",
       "  </thead>\n",
       "  <tbody>\n",
       "    <tr>\n",
       "      <th>2007-01-03</th>\n",
       "      <td>29.91</td>\n",
       "      <td>30.25</td>\n",
       "      <td>29.4</td>\n",
       "      <td>29.860001</td>\n",
       "      <td>22.478832</td>\n",
       "      <td>76935100.0</td>\n",
       "      <td>MSFT</td>\n",
       "    </tr>\n",
       "  </tbody>\n",
       "</table>\n",
       "</div>"
      ],
      "text/plain": [
       "             open   high   low      close   adjclose      volume ticker\n",
       "date                                                                   \n",
       "2007-01-03  29.91  30.25  29.4  29.860001  22.478832  76935100.0   MSFT"
      ]
     },
     "execution_count": 67,
     "metadata": {},
     "output_type": "execute_result"
    }
   ],
   "source": [
    "ymsft = pd.read_csv('./msft_yahoo_2009_today.csv', index_col=0)\n",
    "ymsft.head(1)"
   ]
  },
  {
   "cell_type": "code",
   "execution_count": 68,
   "metadata": {},
   "outputs": [
    {
     "data": {
      "text/plain": [
       "(3105, 2)"
      ]
     },
     "execution_count": 68,
     "metadata": {},
     "output_type": "execute_result"
    }
   ],
   "source": [
    "cols = ['ticker', 'adjclose']\n",
    "ymsft = ymsft[cols]\n",
    "ymsft.shape"
   ]
  },
  {
   "cell_type": "code",
   "execution_count": 69,
   "metadata": {},
   "outputs": [],
   "source": [
    "ymsft.to_csv('./ymsft_2009_today.csv')"
   ]
  },
  {
   "cell_type": "code",
   "execution_count": 70,
   "metadata": {},
   "outputs": [
    {
     "data": {
      "text/html": [
       "<div>\n",
       "<style scoped>\n",
       "    .dataframe tbody tr th:only-of-type {\n",
       "        vertical-align: middle;\n",
       "    }\n",
       "\n",
       "    .dataframe tbody tr th {\n",
       "        vertical-align: top;\n",
       "    }\n",
       "\n",
       "    .dataframe thead th {\n",
       "        text-align: right;\n",
       "    }\n",
       "</style>\n",
       "<table border=\"1\" class=\"dataframe\">\n",
       "  <thead>\n",
       "    <tr style=\"text-align: right;\">\n",
       "      <th></th>\n",
       "      <th>ticker</th>\n",
       "      <th>date</th>\n",
       "      <th>neg_text</th>\n",
       "      <th>date_0</th>\n",
       "      <th>date_1</th>\n",
       "      <th>date_3</th>\n",
       "      <th>date_7</th>\n",
       "    </tr>\n",
       "  </thead>\n",
       "  <tbody>\n",
       "    <tr>\n",
       "      <th>0</th>\n",
       "      <td>MSFT</td>\n",
       "      <td>2010-11-19</td>\n",
       "      <td>break cut ill inability lie miss reject rejected</td>\n",
       "      <td>2010-11-19</td>\n",
       "      <td>2010-11-20</td>\n",
       "      <td>2010-11-22</td>\n",
       "      <td>2010-11-26</td>\n",
       "    </tr>\n",
       "    <tr>\n",
       "      <th>1</th>\n",
       "      <td>MSFT</td>\n",
       "      <td>2011-01-27</td>\n",
       "      <td>adverse adversely break catastrophic challenge...</td>\n",
       "      <td>2011-01-27</td>\n",
       "      <td>2011-01-28</td>\n",
       "      <td>2011-01-30</td>\n",
       "      <td>2011-02-03</td>\n",
       "    </tr>\n",
       "    <tr>\n",
       "      <th>2</th>\n",
       "      <td>MSFT</td>\n",
       "      <td>2011-02-08</td>\n",
       "      <td>adverse against allege alleged arrears bankrup...</td>\n",
       "      <td>2011-02-08</td>\n",
       "      <td>2011-02-09</td>\n",
       "      <td>2011-02-11</td>\n",
       "      <td>2011-02-15</td>\n",
       "    </tr>\n",
       "    <tr>\n",
       "      <th>3</th>\n",
       "      <td>MSFT</td>\n",
       "      <td>2011-04-28</td>\n",
       "      <td>adverse adversely break catastrophic challenge...</td>\n",
       "      <td>2011-04-28</td>\n",
       "      <td>2011-04-29</td>\n",
       "      <td>2011-05-01</td>\n",
       "      <td>2011-05-05</td>\n",
       "    </tr>\n",
       "    <tr>\n",
       "      <th>4</th>\n",
       "      <td>MSFT</td>\n",
       "      <td>2011-05-10</td>\n",
       "      <td>adverse adversely barrier barriers break catas...</td>\n",
       "      <td>2011-05-10</td>\n",
       "      <td>2011-05-11</td>\n",
       "      <td>2011-05-13</td>\n",
       "      <td>2011-05-17</td>\n",
       "    </tr>\n",
       "  </tbody>\n",
       "</table>\n",
       "</div>"
      ],
      "text/plain": [
       "  ticker       date                                           neg_text  \\\n",
       "0   MSFT 2010-11-19   break cut ill inability lie miss reject rejected   \n",
       "1   MSFT 2011-01-27  adverse adversely break catastrophic challenge...   \n",
       "2   MSFT 2011-02-08  adverse against allege alleged arrears bankrup...   \n",
       "3   MSFT 2011-04-28  adverse adversely break catastrophic challenge...   \n",
       "4   MSFT 2011-05-10  adverse adversely barrier barriers break catas...   \n",
       "\n",
       "      date_0      date_1      date_3      date_7  \n",
       "0 2010-11-19  2010-11-20  2010-11-22  2010-11-26  \n",
       "1 2011-01-27  2011-01-28  2011-01-30  2011-02-03  \n",
       "2 2011-02-08  2011-02-09  2011-02-11  2011-02-15  \n",
       "3 2011-04-28  2011-04-29  2011-05-01  2011-05-05  \n",
       "4 2011-05-10  2011-05-11  2011-05-13  2011-05-17  "
      ]
     },
     "execution_count": 70,
     "metadata": {},
     "output_type": "execute_result"
    }
   ],
   "source": [
    "msft = pd.read_csv('./k8_msft_11.csv', index_col=0)\n",
    "msft['date'] = pd.to_datetime(msft['date'])\n",
    "msft['date_0'] = msft['date']\n",
    "cols = ['ticker', 'date', 'neg_text', 'date_0', 'date_1', 'date_3', 'date_7']\n",
    "msft = msft[cols]\n",
    "msft.head()"
   ]
  },
  {
   "cell_type": "code",
   "execution_count": 71,
   "metadata": {},
   "outputs": [
    {
     "data": {
      "text/html": [
       "<div>\n",
       "<style scoped>\n",
       "    .dataframe tbody tr th:only-of-type {\n",
       "        vertical-align: middle;\n",
       "    }\n",
       "\n",
       "    .dataframe tbody tr th {\n",
       "        vertical-align: top;\n",
       "    }\n",
       "\n",
       "    .dataframe thead th {\n",
       "        text-align: right;\n",
       "    }\n",
       "</style>\n",
       "<table border=\"1\" class=\"dataframe\">\n",
       "  <thead>\n",
       "    <tr style=\"text-align: right;\">\n",
       "      <th></th>\n",
       "      <th>ticker</th>\n",
       "      <th>adjclose</th>\n",
       "    </tr>\n",
       "    <tr>\n",
       "      <th>date</th>\n",
       "      <th></th>\n",
       "      <th></th>\n",
       "    </tr>\n",
       "  </thead>\n",
       "  <tbody>\n",
       "    <tr>\n",
       "      <th>2007-01-03</th>\n",
       "      <td>MSFT</td>\n",
       "      <td>22.478832</td>\n",
       "    </tr>\n",
       "    <tr>\n",
       "      <th>2007-01-04</th>\n",
       "      <td>MSFT</td>\n",
       "      <td>22.441185</td>\n",
       "    </tr>\n",
       "    <tr>\n",
       "      <th>2007-01-05</th>\n",
       "      <td>MSFT</td>\n",
       "      <td>22.313211</td>\n",
       "    </tr>\n",
       "    <tr>\n",
       "      <th>2007-01-08</th>\n",
       "      <td>MSFT</td>\n",
       "      <td>22.531523</td>\n",
       "    </tr>\n",
       "    <tr>\n",
       "      <th>2007-01-09</th>\n",
       "      <td>MSFT</td>\n",
       "      <td>22.554110</td>\n",
       "    </tr>\n",
       "  </tbody>\n",
       "</table>\n",
       "</div>"
      ],
      "text/plain": [
       "           ticker   adjclose\n",
       "date                        \n",
       "2007-01-03   MSFT  22.478832\n",
       "2007-01-04   MSFT  22.441185\n",
       "2007-01-05   MSFT  22.313211\n",
       "2007-01-08   MSFT  22.531523\n",
       "2007-01-09   MSFT  22.554110"
      ]
     },
     "execution_count": 71,
     "metadata": {},
     "output_type": "execute_result"
    }
   ],
   "source": [
    "ymsft = pd.read_csv('./ymsft_2009_today.csv', index_col=0)\n",
    "ymsft.index = pd.to_datetime(ymsft.index)\n",
    "ymsft.head()"
   ]
  },
  {
   "cell_type": "code",
   "execution_count": 72,
   "metadata": {},
   "outputs": [
    {
     "data": {
      "text/plain": [
       "ticker      0\n",
       "adjclose    0\n",
       "dtype: int64"
      ]
     },
     "execution_count": 72,
     "metadata": {},
     "output_type": "execute_result"
    }
   ],
   "source": [
    "ymsft.isnull().sum()"
   ]
  },
  {
   "cell_type": "code",
   "execution_count": 73,
   "metadata": {},
   "outputs": [
    {
     "data": {
      "text/plain": [
       "ticker      0\n",
       "date        0\n",
       "neg_text    0\n",
       "date_0      0\n",
       "date_1      0\n",
       "date_3      0\n",
       "date_7      0\n",
       "dtype: int64"
      ]
     },
     "execution_count": 73,
     "metadata": {},
     "output_type": "execute_result"
    }
   ],
   "source": [
    "msft.isnull().sum()"
   ]
  },
  {
   "cell_type": "code",
   "execution_count": 74,
   "metadata": {},
   "outputs": [
    {
     "name": "stderr",
     "output_type": "stream",
     "text": [
      "/anaconda3/envs/myenv/lib/python3.7/site-packages/pandas/core/indexing.py:1017: FutureWarning: \n",
      "Passing list-likes to .loc or [] with any missing label will raise\n",
      "KeyError in the future, you can use .reindex() as an alternative.\n",
      "\n",
      "See the documentation here:\n",
      "https://pandas.pydata.org/pandas-docs/stable/indexing.html#deprecate-loc-reindex-listlike\n",
      "  return getattr(section, self.name)[new_key]\n"
     ]
    }
   ],
   "source": [
    "skips = [-1, 0,1,3,7]\n",
    "for skip in skips:\n",
    "    col = 'date_{}'.format(skip)\n",
    "    msft[col] = msft['date'] + skip * pd.offsets.BDay()\n",
    "    msft[col] = ymsft.loc[msft[col], 'adjclose'].values"
   ]
  },
  {
   "cell_type": "code",
   "execution_count": 75,
   "metadata": {},
   "outputs": [
    {
     "data": {
      "text/html": [
       "<div>\n",
       "<style scoped>\n",
       "    .dataframe tbody tr th:only-of-type {\n",
       "        vertical-align: middle;\n",
       "    }\n",
       "\n",
       "    .dataframe tbody tr th {\n",
       "        vertical-align: top;\n",
       "    }\n",
       "\n",
       "    .dataframe thead th {\n",
       "        text-align: right;\n",
       "    }\n",
       "</style>\n",
       "<table border=\"1\" class=\"dataframe\">\n",
       "  <thead>\n",
       "    <tr style=\"text-align: right;\">\n",
       "      <th></th>\n",
       "      <th>ticker</th>\n",
       "      <th>date</th>\n",
       "      <th>neg_text</th>\n",
       "      <th>date_0</th>\n",
       "      <th>date_1</th>\n",
       "      <th>date_3</th>\n",
       "      <th>date_7</th>\n",
       "      <th>date_-1</th>\n",
       "    </tr>\n",
       "  </thead>\n",
       "  <tbody>\n",
       "    <tr>\n",
       "      <th>0</th>\n",
       "      <td>MSFT</td>\n",
       "      <td>2010-11-19</td>\n",
       "      <td>break cut ill inability lie miss reject rejected</td>\n",
       "      <td>20.857855</td>\n",
       "      <td>20.890327</td>\n",
       "      <td>20.598043</td>\n",
       "      <td>20.508736</td>\n",
       "      <td>20.979637</td>\n",
       "    </tr>\n",
       "    <tr>\n",
       "      <th>1</th>\n",
       "      <td>MSFT</td>\n",
       "      <td>2011-01-27</td>\n",
       "      <td>adverse adversely break catastrophic challenge...</td>\n",
       "      <td>23.439713</td>\n",
       "      <td>22.530378</td>\n",
       "      <td>22.725239</td>\n",
       "      <td>22.895735</td>\n",
       "      <td>23.366644</td>\n",
       "    </tr>\n",
       "    <tr>\n",
       "      <th>2</th>\n",
       "      <td>MSFT</td>\n",
       "      <td>2011-02-08</td>\n",
       "      <td>adverse against allege alleged arrears bankrup...</td>\n",
       "      <td>22.960686</td>\n",
       "      <td>22.709000</td>\n",
       "      <td>22.124426</td>\n",
       "      <td>22.222528</td>\n",
       "      <td>22.895735</td>\n",
       "    </tr>\n",
       "    <tr>\n",
       "      <th>3</th>\n",
       "      <td>MSFT</td>\n",
       "      <td>2011-04-28</td>\n",
       "      <td>adverse adversely break catastrophic challenge...</td>\n",
       "      <td>21.814171</td>\n",
       "      <td>21.168980</td>\n",
       "      <td>21.079144</td>\n",
       "      <td>21.095480</td>\n",
       "      <td>21.544661</td>\n",
       "    </tr>\n",
       "    <tr>\n",
       "      <th>4</th>\n",
       "      <td>MSFT</td>\n",
       "      <td>2011-05-10</td>\n",
       "      <td>adverse adversely barrier barriers break catas...</td>\n",
       "      <td>20.964804</td>\n",
       "      <td>20.711630</td>\n",
       "      <td>20.442110</td>\n",
       "      <td>20.321262</td>\n",
       "      <td>21.095480</td>\n",
       "    </tr>\n",
       "  </tbody>\n",
       "</table>\n",
       "</div>"
      ],
      "text/plain": [
       "  ticker       date                                           neg_text  \\\n",
       "0   MSFT 2010-11-19   break cut ill inability lie miss reject rejected   \n",
       "1   MSFT 2011-01-27  adverse adversely break catastrophic challenge...   \n",
       "2   MSFT 2011-02-08  adverse against allege alleged arrears bankrup...   \n",
       "3   MSFT 2011-04-28  adverse adversely break catastrophic challenge...   \n",
       "4   MSFT 2011-05-10  adverse adversely barrier barriers break catas...   \n",
       "\n",
       "      date_0     date_1     date_3     date_7    date_-1  \n",
       "0  20.857855  20.890327  20.598043  20.508736  20.979637  \n",
       "1  23.439713  22.530378  22.725239  22.895735  23.366644  \n",
       "2  22.960686  22.709000  22.124426  22.222528  22.895735  \n",
       "3  21.814171  21.168980  21.079144  21.095480  21.544661  \n",
       "4  20.964804  20.711630  20.442110  20.321262  21.095480  "
      ]
     },
     "execution_count": 75,
     "metadata": {},
     "output_type": "execute_result"
    }
   ],
   "source": [
    "msft.head()"
   ]
  },
  {
   "cell_type": "code",
   "execution_count": 76,
   "metadata": {},
   "outputs": [
    {
     "data": {
      "text/html": [
       "<div>\n",
       "<style scoped>\n",
       "    .dataframe tbody tr th:only-of-type {\n",
       "        vertical-align: middle;\n",
       "    }\n",
       "\n",
       "    .dataframe tbody tr th {\n",
       "        vertical-align: top;\n",
       "    }\n",
       "\n",
       "    .dataframe thead th {\n",
       "        text-align: right;\n",
       "    }\n",
       "</style>\n",
       "<table border=\"1\" class=\"dataframe\">\n",
       "  <thead>\n",
       "    <tr style=\"text-align: right;\">\n",
       "      <th></th>\n",
       "      <th>ticker</th>\n",
       "      <th>date</th>\n",
       "      <th>neg_text</th>\n",
       "      <th>price_0</th>\n",
       "      <th>price_1</th>\n",
       "      <th>price_3</th>\n",
       "      <th>price_7</th>\n",
       "      <th>price_prior</th>\n",
       "    </tr>\n",
       "  </thead>\n",
       "  <tbody>\n",
       "    <tr>\n",
       "      <th>0</th>\n",
       "      <td>MSFT</td>\n",
       "      <td>2010-11-19</td>\n",
       "      <td>break cut ill inability lie miss reject rejected</td>\n",
       "      <td>20.857855</td>\n",
       "      <td>20.890327</td>\n",
       "      <td>20.598043</td>\n",
       "      <td>20.508736</td>\n",
       "      <td>20.979637</td>\n",
       "    </tr>\n",
       "    <tr>\n",
       "      <th>1</th>\n",
       "      <td>MSFT</td>\n",
       "      <td>2011-01-27</td>\n",
       "      <td>adverse adversely break catastrophic challenge...</td>\n",
       "      <td>23.439713</td>\n",
       "      <td>22.530378</td>\n",
       "      <td>22.725239</td>\n",
       "      <td>22.895735</td>\n",
       "      <td>23.366644</td>\n",
       "    </tr>\n",
       "    <tr>\n",
       "      <th>2</th>\n",
       "      <td>MSFT</td>\n",
       "      <td>2011-02-08</td>\n",
       "      <td>adverse against allege alleged arrears bankrup...</td>\n",
       "      <td>22.960686</td>\n",
       "      <td>22.709000</td>\n",
       "      <td>22.124426</td>\n",
       "      <td>22.222528</td>\n",
       "      <td>22.895735</td>\n",
       "    </tr>\n",
       "    <tr>\n",
       "      <th>3</th>\n",
       "      <td>MSFT</td>\n",
       "      <td>2011-04-28</td>\n",
       "      <td>adverse adversely break catastrophic challenge...</td>\n",
       "      <td>21.814171</td>\n",
       "      <td>21.168980</td>\n",
       "      <td>21.079144</td>\n",
       "      <td>21.095480</td>\n",
       "      <td>21.544661</td>\n",
       "    </tr>\n",
       "    <tr>\n",
       "      <th>4</th>\n",
       "      <td>MSFT</td>\n",
       "      <td>2011-05-10</td>\n",
       "      <td>adverse adversely barrier barriers break catas...</td>\n",
       "      <td>20.964804</td>\n",
       "      <td>20.711630</td>\n",
       "      <td>20.442110</td>\n",
       "      <td>20.321262</td>\n",
       "      <td>21.095480</td>\n",
       "    </tr>\n",
       "  </tbody>\n",
       "</table>\n",
       "</div>"
      ],
      "text/plain": [
       "  ticker       date                                           neg_text  \\\n",
       "0   MSFT 2010-11-19   break cut ill inability lie miss reject rejected   \n",
       "1   MSFT 2011-01-27  adverse adversely break catastrophic challenge...   \n",
       "2   MSFT 2011-02-08  adverse against allege alleged arrears bankrup...   \n",
       "3   MSFT 2011-04-28  adverse adversely break catastrophic challenge...   \n",
       "4   MSFT 2011-05-10  adverse adversely barrier barriers break catas...   \n",
       "\n",
       "     price_0    price_1    price_3    price_7  price_prior  \n",
       "0  20.857855  20.890327  20.598043  20.508736    20.979637  \n",
       "1  23.439713  22.530378  22.725239  22.895735    23.366644  \n",
       "2  22.960686  22.709000  22.124426  22.222528    22.895735  \n",
       "3  21.814171  21.168980  21.079144  21.095480    21.544661  \n",
       "4  20.964804  20.711630  20.442110  20.321262    21.095480  "
      ]
     },
     "execution_count": 76,
     "metadata": {},
     "output_type": "execute_result"
    }
   ],
   "source": [
    "msft.rename(columns={'date_-1':'price_prior', 'date_0':'price_0', 'date_1':'price_1', 'date_3':'price_3',\n",
    "                     'date_7':'price_7'}, inplace=True)\n",
    "msft.head()"
   ]
  },
  {
   "cell_type": "code",
   "execution_count": 77,
   "metadata": {},
   "outputs": [
    {
     "data": {
      "text/html": [
       "<div>\n",
       "<style scoped>\n",
       "    .dataframe tbody tr th:only-of-type {\n",
       "        vertical-align: middle;\n",
       "    }\n",
       "\n",
       "    .dataframe tbody tr th {\n",
       "        vertical-align: top;\n",
       "    }\n",
       "\n",
       "    .dataframe thead th {\n",
       "        text-align: right;\n",
       "    }\n",
       "</style>\n",
       "<table border=\"1\" class=\"dataframe\">\n",
       "  <thead>\n",
       "    <tr style=\"text-align: right;\">\n",
       "      <th></th>\n",
       "      <th>ticker</th>\n",
       "      <th>date</th>\n",
       "      <th>neg_text</th>\n",
       "      <th>price_prior</th>\n",
       "      <th>price_0</th>\n",
       "      <th>price_1</th>\n",
       "      <th>price_3</th>\n",
       "      <th>price_7</th>\n",
       "    </tr>\n",
       "  </thead>\n",
       "  <tbody>\n",
       "    <tr>\n",
       "      <th>0</th>\n",
       "      <td>MSFT</td>\n",
       "      <td>2010-11-19</td>\n",
       "      <td>break cut ill inability lie miss reject rejected</td>\n",
       "      <td>20.979637</td>\n",
       "      <td>20.857855</td>\n",
       "      <td>20.890327</td>\n",
       "      <td>20.598043</td>\n",
       "      <td>20.508736</td>\n",
       "    </tr>\n",
       "    <tr>\n",
       "      <th>1</th>\n",
       "      <td>MSFT</td>\n",
       "      <td>2011-01-27</td>\n",
       "      <td>adverse adversely break catastrophic challenge...</td>\n",
       "      <td>23.366644</td>\n",
       "      <td>23.439713</td>\n",
       "      <td>22.530378</td>\n",
       "      <td>22.725239</td>\n",
       "      <td>22.895735</td>\n",
       "    </tr>\n",
       "    <tr>\n",
       "      <th>2</th>\n",
       "      <td>MSFT</td>\n",
       "      <td>2011-02-08</td>\n",
       "      <td>adverse against allege alleged arrears bankrup...</td>\n",
       "      <td>22.895735</td>\n",
       "      <td>22.960686</td>\n",
       "      <td>22.709000</td>\n",
       "      <td>22.124426</td>\n",
       "      <td>22.222528</td>\n",
       "    </tr>\n",
       "    <tr>\n",
       "      <th>3</th>\n",
       "      <td>MSFT</td>\n",
       "      <td>2011-04-28</td>\n",
       "      <td>adverse adversely break catastrophic challenge...</td>\n",
       "      <td>21.544661</td>\n",
       "      <td>21.814171</td>\n",
       "      <td>21.168980</td>\n",
       "      <td>21.079144</td>\n",
       "      <td>21.095480</td>\n",
       "    </tr>\n",
       "    <tr>\n",
       "      <th>4</th>\n",
       "      <td>MSFT</td>\n",
       "      <td>2011-05-10</td>\n",
       "      <td>adverse adversely barrier barriers break catas...</td>\n",
       "      <td>21.095480</td>\n",
       "      <td>20.964804</td>\n",
       "      <td>20.711630</td>\n",
       "      <td>20.442110</td>\n",
       "      <td>20.321262</td>\n",
       "    </tr>\n",
       "    <tr>\n",
       "      <th>5</th>\n",
       "      <td>MSFT</td>\n",
       "      <td>2011-07-21</td>\n",
       "      <td>adverse adversely break catastrophic challenge...</td>\n",
       "      <td>22.244881</td>\n",
       "      <td>22.277758</td>\n",
       "      <td>22.631245</td>\n",
       "      <td>23.083380</td>\n",
       "      <td>22.417513</td>\n",
       "    </tr>\n",
       "    <tr>\n",
       "      <th>6</th>\n",
       "      <td>MSFT</td>\n",
       "      <td>2011-10-20</td>\n",
       "      <td>adverse adversely break catastrophic challenge...</td>\n",
       "      <td>22.443190</td>\n",
       "      <td>22.368736</td>\n",
       "      <td>22.468004</td>\n",
       "      <td>22.178469</td>\n",
       "      <td>22.029568</td>\n",
       "    </tr>\n",
       "    <tr>\n",
       "      <th>7</th>\n",
       "      <td>MSFT</td>\n",
       "      <td>2011-11-17</td>\n",
       "      <td>break cut ill inability lie miss reject rejected</td>\n",
       "      <td>21.728706</td>\n",
       "      <td>21.286966</td>\n",
       "      <td>21.086926</td>\n",
       "      <td>20.661858</td>\n",
       "      <td>20.728533</td>\n",
       "    </tr>\n",
       "    <tr>\n",
       "      <th>8</th>\n",
       "      <td>MSFT</td>\n",
       "      <td>2011-12-22</td>\n",
       "      <td>break cut deter disclose ill late lie lose miss</td>\n",
       "      <td>21.470329</td>\n",
       "      <td>21.512001</td>\n",
       "      <td>21.695370</td>\n",
       "      <td>21.703695</td>\n",
       "      <td>NaN</td>\n",
       "    </tr>\n",
       "    <tr>\n",
       "      <th>9</th>\n",
       "      <td>MSFT</td>\n",
       "      <td>2012-01-19</td>\n",
       "      <td>adverse adversely break catastrophic challenge...</td>\n",
       "      <td>23.529015</td>\n",
       "      <td>23.437330</td>\n",
       "      <td>24.762552</td>\n",
       "      <td>24.454165</td>\n",
       "      <td>24.679209</td>\n",
       "    </tr>\n",
       "  </tbody>\n",
       "</table>\n",
       "</div>"
      ],
      "text/plain": [
       "  ticker       date                                           neg_text  \\\n",
       "0   MSFT 2010-11-19   break cut ill inability lie miss reject rejected   \n",
       "1   MSFT 2011-01-27  adverse adversely break catastrophic challenge...   \n",
       "2   MSFT 2011-02-08  adverse against allege alleged arrears bankrup...   \n",
       "3   MSFT 2011-04-28  adverse adversely break catastrophic challenge...   \n",
       "4   MSFT 2011-05-10  adverse adversely barrier barriers break catas...   \n",
       "5   MSFT 2011-07-21  adverse adversely break catastrophic challenge...   \n",
       "6   MSFT 2011-10-20  adverse adversely break catastrophic challenge...   \n",
       "7   MSFT 2011-11-17   break cut ill inability lie miss reject rejected   \n",
       "8   MSFT 2011-12-22    break cut deter disclose ill late lie lose miss   \n",
       "9   MSFT 2012-01-19  adverse adversely break catastrophic challenge...   \n",
       "\n",
       "   price_prior    price_0    price_1    price_3    price_7  \n",
       "0    20.979637  20.857855  20.890327  20.598043  20.508736  \n",
       "1    23.366644  23.439713  22.530378  22.725239  22.895735  \n",
       "2    22.895735  22.960686  22.709000  22.124426  22.222528  \n",
       "3    21.544661  21.814171  21.168980  21.079144  21.095480  \n",
       "4    21.095480  20.964804  20.711630  20.442110  20.321262  \n",
       "5    22.244881  22.277758  22.631245  23.083380  22.417513  \n",
       "6    22.443190  22.368736  22.468004  22.178469  22.029568  \n",
       "7    21.728706  21.286966  21.086926  20.661858  20.728533  \n",
       "8    21.470329  21.512001  21.695370  21.703695        NaN  \n",
       "9    23.529015  23.437330  24.762552  24.454165  24.679209  "
      ]
     },
     "execution_count": 77,
     "metadata": {},
     "output_type": "execute_result"
    }
   ],
   "source": [
    "cols = ['ticker', 'date', 'neg_text', 'price_prior', 'price_0', 'price_1', 'price_3', 'price_7']\n",
    "msft = msft[cols]\n",
    "msft.head(10)"
   ]
  },
  {
   "cell_type": "code",
   "execution_count": 78,
   "metadata": {},
   "outputs": [
    {
     "data": {
      "text/html": [
       "<div>\n",
       "<style scoped>\n",
       "    .dataframe tbody tr th:only-of-type {\n",
       "        vertical-align: middle;\n",
       "    }\n",
       "\n",
       "    .dataframe tbody tr th {\n",
       "        vertical-align: top;\n",
       "    }\n",
       "\n",
       "    .dataframe thead th {\n",
       "        text-align: right;\n",
       "    }\n",
       "</style>\n",
       "<table border=\"1\" class=\"dataframe\">\n",
       "  <thead>\n",
       "    <tr style=\"text-align: right;\">\n",
       "      <th></th>\n",
       "      <th>ticker</th>\n",
       "      <th>date</th>\n",
       "      <th>neg_text</th>\n",
       "      <th>price_prior</th>\n",
       "      <th>price_0</th>\n",
       "      <th>price_1</th>\n",
       "      <th>price_3</th>\n",
       "      <th>price_7</th>\n",
       "    </tr>\n",
       "  </thead>\n",
       "  <tbody>\n",
       "    <tr>\n",
       "      <th>8</th>\n",
       "      <td>MSFT</td>\n",
       "      <td>2011-12-22</td>\n",
       "      <td>break cut deter disclose ill late lie lose miss</td>\n",
       "      <td>21.470329</td>\n",
       "      <td>21.512001</td>\n",
       "      <td>21.695370</td>\n",
       "      <td>21.703695</td>\n",
       "      <td>NaN</td>\n",
       "    </tr>\n",
       "    <tr>\n",
       "      <th>10</th>\n",
       "      <td>MSFT</td>\n",
       "      <td>2012-02-21</td>\n",
       "      <td>against arrears break cut defend force harm il...</td>\n",
       "      <td>NaN</td>\n",
       "      <td>26.376982</td>\n",
       "      <td>26.234358</td>\n",
       "      <td>26.410532</td>\n",
       "      <td>27.090097</td>\n",
       "    </tr>\n",
       "    <tr>\n",
       "      <th>18</th>\n",
       "      <td>MSFT</td>\n",
       "      <td>2012-10-18</td>\n",
       "      <td>adverse adversely break catastrophic claims cl...</td>\n",
       "      <td>25.153328</td>\n",
       "      <td>25.076818</td>\n",
       "      <td>24.345768</td>\n",
       "      <td>23.844236</td>\n",
       "      <td>NaN</td>\n",
       "    </tr>\n",
       "    <tr>\n",
       "      <th>29</th>\n",
       "      <td>MSFT</td>\n",
       "      <td>2013-07-03</td>\n",
       "      <td>against break claims closure cut deter dispara...</td>\n",
       "      <td>29.534666</td>\n",
       "      <td>29.595579</td>\n",
       "      <td>NaN</td>\n",
       "      <td>29.874043</td>\n",
       "      <td>31.040113</td>\n",
       "    </tr>\n",
       "    <tr>\n",
       "      <th>33</th>\n",
       "      <td>MSFT</td>\n",
       "      <td>2013-08-30</td>\n",
       "      <td>against breach breaches break cease ceases clo...</td>\n",
       "      <td>29.401014</td>\n",
       "      <td>29.269562</td>\n",
       "      <td>NaN</td>\n",
       "      <td>27.341629</td>\n",
       "      <td>28.384464</td>\n",
       "    </tr>\n",
       "    <tr>\n",
       "      <th>34</th>\n",
       "      <td>MSFT</td>\n",
       "      <td>2013-09-03</td>\n",
       "      <td>adverse against break closed closing critical ...</td>\n",
       "      <td>NaN</td>\n",
       "      <td>27.937536</td>\n",
       "      <td>27.341629</td>\n",
       "      <td>27.297810</td>\n",
       "      <td>28.647364</td>\n",
       "    </tr>\n",
       "    <tr>\n",
       "      <th>71</th>\n",
       "      <td>MSFT</td>\n",
       "      <td>2016-05-25</td>\n",
       "      <td>break closure cut ill impair impairment late l...</td>\n",
       "      <td>48.758228</td>\n",
       "      <td>49.259132</td>\n",
       "      <td>49.041752</td>\n",
       "      <td>NaN</td>\n",
       "      <td>48.947247</td>\n",
       "    </tr>\n",
       "    <tr>\n",
       "      <th>73</th>\n",
       "      <td>MSFT</td>\n",
       "      <td>2016-07-05</td>\n",
       "      <td>absence against breach breaches break closed c...</td>\n",
       "      <td>NaN</td>\n",
       "      <td>48.361279</td>\n",
       "      <td>48.559753</td>\n",
       "      <td>49.429249</td>\n",
       "      <td>50.790203</td>\n",
       "    </tr>\n",
       "  </tbody>\n",
       "</table>\n",
       "</div>"
      ],
      "text/plain": [
       "   ticker       date                                           neg_text  \\\n",
       "8    MSFT 2011-12-22    break cut deter disclose ill late lie lose miss   \n",
       "10   MSFT 2012-02-21  against arrears break cut defend force harm il...   \n",
       "18   MSFT 2012-10-18  adverse adversely break catastrophic claims cl...   \n",
       "29   MSFT 2013-07-03  against break claims closure cut deter dispara...   \n",
       "33   MSFT 2013-08-30  against breach breaches break cease ceases clo...   \n",
       "34   MSFT 2013-09-03  adverse against break closed closing critical ...   \n",
       "71   MSFT 2016-05-25  break closure cut ill impair impairment late l...   \n",
       "73   MSFT 2016-07-05  absence against breach breaches break closed c...   \n",
       "\n",
       "    price_prior    price_0    price_1    price_3    price_7  \n",
       "8     21.470329  21.512001  21.695370  21.703695        NaN  \n",
       "10          NaN  26.376982  26.234358  26.410532  27.090097  \n",
       "18    25.153328  25.076818  24.345768  23.844236        NaN  \n",
       "29    29.534666  29.595579        NaN  29.874043  31.040113  \n",
       "33    29.401014  29.269562        NaN  27.341629  28.384464  \n",
       "34          NaN  27.937536  27.341629  27.297810  28.647364  \n",
       "71    48.758228  49.259132  49.041752        NaN  48.947247  \n",
       "73          NaN  48.361279  48.559753  49.429249  50.790203  "
      ]
     },
     "execution_count": 78,
     "metadata": {},
     "output_type": "execute_result"
    }
   ],
   "source": [
    "msft[msft.isnull().any(axis=1)]"
   ]
  },
  {
   "cell_type": "code",
   "execution_count": 93,
   "metadata": {},
   "outputs": [],
   "source": [
    "msft.at[8,'price_7']=ymsft.loc['2011-12-29'].at['adjclose']\n",
    "msft.at[10,'price_prior']=ymsft.loc['2012-02-17'].at['adjclose']\n",
    "msft.at[18,'price_7']=ymsft.loc['2012-10-25'].at['adjclose']\n",
    "msft.at[29,'price_1']=ymsft.loc['2013-07-05'].at['adjclose']\n",
    "msft.at[33,'price_1']=ymsft.loc['2013-09-03'].at['adjclose']\n",
    "msft.at[34,'price_prior']=ymsft.loc['2013-08-30'].at['adjclose']\n",
    "msft.at[71,'price_3']=ymsft.loc['2016-05-31'].at['adjclose']\n",
    "msft.at[73,'price_prior']=ymsft.loc['2016-07-01'].at['adjclose']"
   ]
  },
  {
   "cell_type": "code",
   "execution_count": 94,
   "metadata": {},
   "outputs": [
    {
     "data": {
      "text/plain": [
       "(ticker         0\n",
       " date           0\n",
       " neg_text       0\n",
       " price_prior    0\n",
       " price_0        0\n",
       " price_1        0\n",
       " price_3        0\n",
       " price_7        0\n",
       " dtype: int64, (100, 8))"
      ]
     },
     "execution_count": 94,
     "metadata": {},
     "output_type": "execute_result"
    }
   ],
   "source": [
    "msft.isnull().sum(), msft.shape"
   ]
  },
  {
   "cell_type": "code",
   "execution_count": 95,
   "metadata": {},
   "outputs": [],
   "source": [
    "msft.to_csv('./k8_msft_14_3.csv')"
   ]
  },
  {
   "cell_type": "code",
   "execution_count": 96,
   "metadata": {},
   "outputs": [],
   "source": [
    "msft=pd.read_csv('./k8_msft_14_3.csv', index_col=0)"
   ]
  },
  {
   "cell_type": "code",
   "execution_count": 97,
   "metadata": {},
   "outputs": [
    {
     "data": {
      "text/html": [
       "<div>\n",
       "<style scoped>\n",
       "    .dataframe tbody tr th:only-of-type {\n",
       "        vertical-align: middle;\n",
       "    }\n",
       "\n",
       "    .dataframe tbody tr th {\n",
       "        vertical-align: top;\n",
       "    }\n",
       "\n",
       "    .dataframe thead th {\n",
       "        text-align: right;\n",
       "    }\n",
       "</style>\n",
       "<table border=\"1\" class=\"dataframe\">\n",
       "  <thead>\n",
       "    <tr style=\"text-align: right;\">\n",
       "      <th></th>\n",
       "      <th>ticker</th>\n",
       "      <th>date</th>\n",
       "      <th>neg_text</th>\n",
       "      <th>price_prior</th>\n",
       "      <th>price_0</th>\n",
       "      <th>price_1</th>\n",
       "      <th>price_3</th>\n",
       "      <th>price_7</th>\n",
       "      <th>true_price</th>\n",
       "    </tr>\n",
       "  </thead>\n",
       "  <tbody>\n",
       "    <tr>\n",
       "      <th>95</th>\n",
       "      <td>MSFT</td>\n",
       "      <td>2018-09-19</td>\n",
       "      <td>adverse adversely against alienation break cla...</td>\n",
       "      <td>112.243668</td>\n",
       "      <td>110.746552</td>\n",
       "      <td>112.600594</td>\n",
       "      <td>113.691208</td>\n",
       "      <td>113.393768</td>\n",
       "      <td>107.177284</td>\n",
       "    </tr>\n",
       "    <tr>\n",
       "      <th>96</th>\n",
       "      <td>MSFT</td>\n",
       "      <td>2018-10-24</td>\n",
       "      <td>abuse adverse against break catastrophic claim...</td>\n",
       "      <td>107.177284</td>\n",
       "      <td>101.446625</td>\n",
       "      <td>107.375580</td>\n",
       "      <td>102.963562</td>\n",
       "      <td>105.253845</td>\n",
       "      <td>110.647461</td>\n",
       "    </tr>\n",
       "    <tr>\n",
       "      <th>97</th>\n",
       "      <td>MSFT</td>\n",
       "      <td>2018-11-29</td>\n",
       "      <td>break cut fined ill lie lying miss</td>\n",
       "      <td>110.647461</td>\n",
       "      <td>109.721413</td>\n",
       "      <td>110.418434</td>\n",
       "      <td>108.058510</td>\n",
       "      <td>107.132462</td>\n",
       "      <td>102.502243</td>\n",
       "    </tr>\n",
       "    <tr>\n",
       "      <th>98</th>\n",
       "      <td>MSFT</td>\n",
       "      <td>2019-01-30</td>\n",
       "      <td>abuse adverse against break catastrophic claim...</td>\n",
       "      <td>102.502243</td>\n",
       "      <td>105.927612</td>\n",
       "      <td>103.985909</td>\n",
       "      <td>105.290337</td>\n",
       "      <td>105.220634</td>\n",
       "      <td>125.440002</td>\n",
       "    </tr>\n",
       "    <tr>\n",
       "      <th>99</th>\n",
       "      <td>MSFT</td>\n",
       "      <td>2019-04-24</td>\n",
       "      <td>abuse adverse against break catastrophic claim...</td>\n",
       "      <td>125.440002</td>\n",
       "      <td>125.010002</td>\n",
       "      <td>129.149994</td>\n",
       "      <td>129.770004</td>\n",
       "      <td>128.899994</td>\n",
       "      <td>NaN</td>\n",
       "    </tr>\n",
       "  </tbody>\n",
       "</table>\n",
       "</div>"
      ],
      "text/plain": [
       "   ticker        date                                           neg_text  \\\n",
       "95   MSFT  2018-09-19  adverse adversely against alienation break cla...   \n",
       "96   MSFT  2018-10-24  abuse adverse against break catastrophic claim...   \n",
       "97   MSFT  2018-11-29                 break cut fined ill lie lying miss   \n",
       "98   MSFT  2019-01-30  abuse adverse against break catastrophic claim...   \n",
       "99   MSFT  2019-04-24  abuse adverse against break catastrophic claim...   \n",
       "\n",
       "    price_prior     price_0     price_1     price_3     price_7  true_price  \n",
       "95   112.243668  110.746552  112.600594  113.691208  113.393768  107.177284  \n",
       "96   107.177284  101.446625  107.375580  102.963562  105.253845  110.647461  \n",
       "97   110.647461  109.721413  110.418434  108.058510  107.132462  102.502243  \n",
       "98   102.502243  105.927612  103.985909  105.290337  105.220634  125.440002  \n",
       "99   125.440002  125.010002  129.149994  129.770004  128.899994         NaN  "
      ]
     },
     "execution_count": 97,
     "metadata": {},
     "output_type": "execute_result"
    }
   ],
   "source": [
    "msft['true_price'] = msft['price_prior'].shift(-1)\n",
    "msft.tail()"
   ]
  },
  {
   "cell_type": "code",
   "execution_count": null,
   "metadata": {},
   "outputs": [],
   "source": [
    "# msft['1b'] = round(((msft['price_1'] / msft['price_0'])-1)*100,2)\n",
    "# msft['3b'] = round(((msft['price_3'] / msft['price_0'])-1)*100,2)"
   ]
  },
  {
   "cell_type": "code",
   "execution_count": 98,
   "metadata": {},
   "outputs": [],
   "source": [
    "skips = [0,1,3,7]\n",
    "for skip in skips:\n",
    "    col = 'price_{}'.format(skip)\n",
    "    msft[col] = round(((msft[col] / msft['true_price'])-1)*100,2)"
   ]
  },
  {
   "cell_type": "code",
   "execution_count": 99,
   "metadata": {},
   "outputs": [
    {
     "data": {
      "text/html": [
       "<div>\n",
       "<style scoped>\n",
       "    .dataframe tbody tr th:only-of-type {\n",
       "        vertical-align: middle;\n",
       "    }\n",
       "\n",
       "    .dataframe tbody tr th {\n",
       "        vertical-align: top;\n",
       "    }\n",
       "\n",
       "    .dataframe thead th {\n",
       "        text-align: right;\n",
       "    }\n",
       "</style>\n",
       "<table border=\"1\" class=\"dataframe\">\n",
       "  <thead>\n",
       "    <tr style=\"text-align: right;\">\n",
       "      <th></th>\n",
       "      <th>ticker</th>\n",
       "      <th>date</th>\n",
       "      <th>neg_text</th>\n",
       "      <th>price_prior</th>\n",
       "      <th>price_0</th>\n",
       "      <th>price_1</th>\n",
       "      <th>price_3</th>\n",
       "      <th>price_7</th>\n",
       "      <th>true_price</th>\n",
       "    </tr>\n",
       "  </thead>\n",
       "  <tbody>\n",
       "    <tr>\n",
       "      <th>0</th>\n",
       "      <td>MSFT</td>\n",
       "      <td>2010-11-19</td>\n",
       "      <td>break cut ill inability lie miss reject rejected</td>\n",
       "      <td>20.979637</td>\n",
       "      <td>-10.74</td>\n",
       "      <td>-10.60</td>\n",
       "      <td>-11.85</td>\n",
       "      <td>-12.23</td>\n",
       "      <td>23.366644</td>\n",
       "    </tr>\n",
       "    <tr>\n",
       "      <th>1</th>\n",
       "      <td>MSFT</td>\n",
       "      <td>2011-01-27</td>\n",
       "      <td>adverse adversely break catastrophic challenge...</td>\n",
       "      <td>23.366644</td>\n",
       "      <td>2.38</td>\n",
       "      <td>-1.60</td>\n",
       "      <td>-0.74</td>\n",
       "      <td>0.00</td>\n",
       "      <td>22.895735</td>\n",
       "    </tr>\n",
       "    <tr>\n",
       "      <th>2</th>\n",
       "      <td>MSFT</td>\n",
       "      <td>2011-02-08</td>\n",
       "      <td>adverse against allege alleged arrears bankrup...</td>\n",
       "      <td>22.895735</td>\n",
       "      <td>6.57</td>\n",
       "      <td>5.40</td>\n",
       "      <td>2.69</td>\n",
       "      <td>3.15</td>\n",
       "      <td>21.544661</td>\n",
       "    </tr>\n",
       "    <tr>\n",
       "      <th>3</th>\n",
       "      <td>MSFT</td>\n",
       "      <td>2011-04-28</td>\n",
       "      <td>adverse adversely break catastrophic challenge...</td>\n",
       "      <td>21.544661</td>\n",
       "      <td>3.41</td>\n",
       "      <td>0.35</td>\n",
       "      <td>-0.08</td>\n",
       "      <td>0.00</td>\n",
       "      <td>21.095480</td>\n",
       "    </tr>\n",
       "    <tr>\n",
       "      <th>4</th>\n",
       "      <td>MSFT</td>\n",
       "      <td>2011-05-10</td>\n",
       "      <td>adverse adversely barrier barriers break catas...</td>\n",
       "      <td>21.095480</td>\n",
       "      <td>-5.75</td>\n",
       "      <td>-6.89</td>\n",
       "      <td>-8.10</td>\n",
       "      <td>-8.65</td>\n",
       "      <td>22.244881</td>\n",
       "    </tr>\n",
       "  </tbody>\n",
       "</table>\n",
       "</div>"
      ],
      "text/plain": [
       "  ticker        date                                           neg_text  \\\n",
       "0   MSFT  2010-11-19   break cut ill inability lie miss reject rejected   \n",
       "1   MSFT  2011-01-27  adverse adversely break catastrophic challenge...   \n",
       "2   MSFT  2011-02-08  adverse against allege alleged arrears bankrup...   \n",
       "3   MSFT  2011-04-28  adverse adversely break catastrophic challenge...   \n",
       "4   MSFT  2011-05-10  adverse adversely barrier barriers break catas...   \n",
       "\n",
       "   price_prior  price_0  price_1  price_3  price_7  true_price  \n",
       "0    20.979637   -10.74   -10.60   -11.85   -12.23   23.366644  \n",
       "1    23.366644     2.38    -1.60    -0.74     0.00   22.895735  \n",
       "2    22.895735     6.57     5.40     2.69     3.15   21.544661  \n",
       "3    21.544661     3.41     0.35    -0.08     0.00   21.095480  \n",
       "4    21.095480    -5.75    -6.89    -8.10    -8.65   22.244881  "
      ]
     },
     "execution_count": 99,
     "metadata": {},
     "output_type": "execute_result"
    }
   ],
   "source": [
    "msft.head()"
   ]
  },
  {
   "cell_type": "code",
   "execution_count": 102,
   "metadata": {},
   "outputs": [
    {
     "data": {
      "text/plain": [
       "ticker         0\n",
       "date           0\n",
       "neg_text       0\n",
       "price_prior    0\n",
       "price_0        1\n",
       "price_1        1\n",
       "price_3        1\n",
       "price_7        1\n",
       "true_price     1\n",
       "dtype: int64"
      ]
     },
     "execution_count": 102,
     "metadata": {},
     "output_type": "execute_result"
    }
   ],
   "source": [
    "msft.isnull().sum()"
   ]
  },
  {
   "cell_type": "code",
   "execution_count": 103,
   "metadata": {},
   "outputs": [],
   "source": [
    "msft.to_csv('./k8_goog_15_3.csv')"
   ]
  },
  {
   "cell_type": "code",
   "execution_count": 104,
   "metadata": {},
   "outputs": [],
   "source": [
    "msft=pd.read_csv('./k8_goog_15_3.csv', index_col=0)"
   ]
  },
  {
   "cell_type": "code",
   "execution_count": 105,
   "metadata": {},
   "outputs": [
    {
     "data": {
      "text/html": [
       "<div>\n",
       "<style scoped>\n",
       "    .dataframe tbody tr th:only-of-type {\n",
       "        vertical-align: middle;\n",
       "    }\n",
       "\n",
       "    .dataframe tbody tr th {\n",
       "        vertical-align: top;\n",
       "    }\n",
       "\n",
       "    .dataframe thead th {\n",
       "        text-align: right;\n",
       "    }\n",
       "</style>\n",
       "<table border=\"1\" class=\"dataframe\">\n",
       "  <thead>\n",
       "    <tr style=\"text-align: right;\">\n",
       "      <th></th>\n",
       "      <th>ticker</th>\n",
       "      <th>date</th>\n",
       "      <th>neg_text</th>\n",
       "      <th>price_prior</th>\n",
       "      <th>price_0</th>\n",
       "      <th>price_1</th>\n",
       "      <th>price_3</th>\n",
       "      <th>price_7</th>\n",
       "      <th>true_price</th>\n",
       "      <th>target_date</th>\n",
       "    </tr>\n",
       "  </thead>\n",
       "  <tbody>\n",
       "    <tr>\n",
       "      <th>0</th>\n",
       "      <td>MSFT</td>\n",
       "      <td>2010-11-19</td>\n",
       "      <td>break cut ill inability lie miss reject rejected</td>\n",
       "      <td>20.979637</td>\n",
       "      <td>-10.74</td>\n",
       "      <td>-10.60</td>\n",
       "      <td>-11.85</td>\n",
       "      <td>-12.23</td>\n",
       "      <td>23.366644</td>\n",
       "      <td>2011-01-27</td>\n",
       "    </tr>\n",
       "    <tr>\n",
       "      <th>1</th>\n",
       "      <td>MSFT</td>\n",
       "      <td>2011-01-27</td>\n",
       "      <td>adverse adversely break catastrophic challenge...</td>\n",
       "      <td>23.366644</td>\n",
       "      <td>2.38</td>\n",
       "      <td>-1.60</td>\n",
       "      <td>-0.74</td>\n",
       "      <td>0.00</td>\n",
       "      <td>22.895735</td>\n",
       "      <td>2011-02-08</td>\n",
       "    </tr>\n",
       "    <tr>\n",
       "      <th>2</th>\n",
       "      <td>MSFT</td>\n",
       "      <td>2011-02-08</td>\n",
       "      <td>adverse against allege alleged arrears bankrup...</td>\n",
       "      <td>22.895735</td>\n",
       "      <td>6.57</td>\n",
       "      <td>5.40</td>\n",
       "      <td>2.69</td>\n",
       "      <td>3.15</td>\n",
       "      <td>21.544661</td>\n",
       "      <td>2011-04-28</td>\n",
       "    </tr>\n",
       "    <tr>\n",
       "      <th>3</th>\n",
       "      <td>MSFT</td>\n",
       "      <td>2011-04-28</td>\n",
       "      <td>adverse adversely break catastrophic challenge...</td>\n",
       "      <td>21.544661</td>\n",
       "      <td>3.41</td>\n",
       "      <td>0.35</td>\n",
       "      <td>-0.08</td>\n",
       "      <td>0.00</td>\n",
       "      <td>21.095480</td>\n",
       "      <td>2011-05-10</td>\n",
       "    </tr>\n",
       "    <tr>\n",
       "      <th>4</th>\n",
       "      <td>MSFT</td>\n",
       "      <td>2011-05-10</td>\n",
       "      <td>adverse adversely barrier barriers break catas...</td>\n",
       "      <td>21.095480</td>\n",
       "      <td>-5.75</td>\n",
       "      <td>-6.89</td>\n",
       "      <td>-8.10</td>\n",
       "      <td>-8.65</td>\n",
       "      <td>22.244881</td>\n",
       "      <td>2011-07-21</td>\n",
       "    </tr>\n",
       "  </tbody>\n",
       "</table>\n",
       "</div>"
      ],
      "text/plain": [
       "  ticker        date                                           neg_text  \\\n",
       "0   MSFT  2010-11-19   break cut ill inability lie miss reject rejected   \n",
       "1   MSFT  2011-01-27  adverse adversely break catastrophic challenge...   \n",
       "2   MSFT  2011-02-08  adverse against allege alleged arrears bankrup...   \n",
       "3   MSFT  2011-04-28  adverse adversely break catastrophic challenge...   \n",
       "4   MSFT  2011-05-10  adverse adversely barrier barriers break catas...   \n",
       "\n",
       "   price_prior  price_0  price_1  price_3  price_7  true_price target_date  \n",
       "0    20.979637   -10.74   -10.60   -11.85   -12.23   23.366644  2011-01-27  \n",
       "1    23.366644     2.38    -1.60    -0.74     0.00   22.895735  2011-02-08  \n",
       "2    22.895735     6.57     5.40     2.69     3.15   21.544661  2011-04-28  \n",
       "3    21.544661     3.41     0.35    -0.08     0.00   21.095480  2011-05-10  \n",
       "4    21.095480    -5.75    -6.89    -8.10    -8.65   22.244881  2011-07-21  "
      ]
     },
     "execution_count": 105,
     "metadata": {},
     "output_type": "execute_result"
    }
   ],
   "source": [
    "msft['target_date'] = msft['date'].shift(-1)\n",
    "msft.head()"
   ]
  },
  {
   "cell_type": "code",
   "execution_count": 106,
   "metadata": {},
   "outputs": [
    {
     "data": {
      "text/html": [
       "<div>\n",
       "<style scoped>\n",
       "    .dataframe tbody tr th:only-of-type {\n",
       "        vertical-align: middle;\n",
       "    }\n",
       "\n",
       "    .dataframe tbody tr th {\n",
       "        vertical-align: top;\n",
       "    }\n",
       "\n",
       "    .dataframe thead th {\n",
       "        text-align: right;\n",
       "    }\n",
       "</style>\n",
       "<table border=\"1\" class=\"dataframe\">\n",
       "  <thead>\n",
       "    <tr style=\"text-align: right;\">\n",
       "      <th></th>\n",
       "      <th>ticker</th>\n",
       "      <th>date</th>\n",
       "      <th>neg_text</th>\n",
       "      <th>price_prior</th>\n",
       "      <th>price_0</th>\n",
       "      <th>price_1</th>\n",
       "      <th>price_3</th>\n",
       "      <th>price_7</th>\n",
       "      <th>true_price</th>\n",
       "      <th>target_date</th>\n",
       "      <th>period</th>\n",
       "    </tr>\n",
       "  </thead>\n",
       "  <tbody>\n",
       "    <tr>\n",
       "      <th>0</th>\n",
       "      <td>MSFT</td>\n",
       "      <td>2010-11-19</td>\n",
       "      <td>break cut ill inability lie miss reject rejected</td>\n",
       "      <td>20.979637</td>\n",
       "      <td>-10.74</td>\n",
       "      <td>-10.60</td>\n",
       "      <td>-11.85</td>\n",
       "      <td>-12.23</td>\n",
       "      <td>23.366644</td>\n",
       "      <td>2011-01-27</td>\n",
       "      <td>69 days</td>\n",
       "    </tr>\n",
       "    <tr>\n",
       "      <th>1</th>\n",
       "      <td>MSFT</td>\n",
       "      <td>2011-01-27</td>\n",
       "      <td>adverse adversely break catastrophic challenge...</td>\n",
       "      <td>23.366644</td>\n",
       "      <td>2.38</td>\n",
       "      <td>-1.60</td>\n",
       "      <td>-0.74</td>\n",
       "      <td>0.00</td>\n",
       "      <td>22.895735</td>\n",
       "      <td>2011-02-08</td>\n",
       "      <td>12 days</td>\n",
       "    </tr>\n",
       "    <tr>\n",
       "      <th>2</th>\n",
       "      <td>MSFT</td>\n",
       "      <td>2011-02-08</td>\n",
       "      <td>adverse against allege alleged arrears bankrup...</td>\n",
       "      <td>22.895735</td>\n",
       "      <td>6.57</td>\n",
       "      <td>5.40</td>\n",
       "      <td>2.69</td>\n",
       "      <td>3.15</td>\n",
       "      <td>21.544661</td>\n",
       "      <td>2011-04-28</td>\n",
       "      <td>79 days</td>\n",
       "    </tr>\n",
       "    <tr>\n",
       "      <th>3</th>\n",
       "      <td>MSFT</td>\n",
       "      <td>2011-04-28</td>\n",
       "      <td>adverse adversely break catastrophic challenge...</td>\n",
       "      <td>21.544661</td>\n",
       "      <td>3.41</td>\n",
       "      <td>0.35</td>\n",
       "      <td>-0.08</td>\n",
       "      <td>0.00</td>\n",
       "      <td>21.095480</td>\n",
       "      <td>2011-05-10</td>\n",
       "      <td>12 days</td>\n",
       "    </tr>\n",
       "    <tr>\n",
       "      <th>4</th>\n",
       "      <td>MSFT</td>\n",
       "      <td>2011-05-10</td>\n",
       "      <td>adverse adversely barrier barriers break catas...</td>\n",
       "      <td>21.095480</td>\n",
       "      <td>-5.75</td>\n",
       "      <td>-6.89</td>\n",
       "      <td>-8.10</td>\n",
       "      <td>-8.65</td>\n",
       "      <td>22.244881</td>\n",
       "      <td>2011-07-21</td>\n",
       "      <td>72 days</td>\n",
       "    </tr>\n",
       "  </tbody>\n",
       "</table>\n",
       "</div>"
      ],
      "text/plain": [
       "  ticker       date                                           neg_text  \\\n",
       "0   MSFT 2010-11-19   break cut ill inability lie miss reject rejected   \n",
       "1   MSFT 2011-01-27  adverse adversely break catastrophic challenge...   \n",
       "2   MSFT 2011-02-08  adverse against allege alleged arrears bankrup...   \n",
       "3   MSFT 2011-04-28  adverse adversely break catastrophic challenge...   \n",
       "4   MSFT 2011-05-10  adverse adversely barrier barriers break catas...   \n",
       "\n",
       "   price_prior  price_0  price_1  price_3  price_7  true_price target_date  \\\n",
       "0    20.979637   -10.74   -10.60   -11.85   -12.23   23.366644  2011-01-27   \n",
       "1    23.366644     2.38    -1.60    -0.74     0.00   22.895735  2011-02-08   \n",
       "2    22.895735     6.57     5.40     2.69     3.15   21.544661  2011-04-28   \n",
       "3    21.544661     3.41     0.35    -0.08     0.00   21.095480  2011-05-10   \n",
       "4    21.095480    -5.75    -6.89    -8.10    -8.65   22.244881  2011-07-21   \n",
       "\n",
       "   period  \n",
       "0 69 days  \n",
       "1 12 days  \n",
       "2 79 days  \n",
       "3 12 days  \n",
       "4 72 days  "
      ]
     },
     "execution_count": 106,
     "metadata": {},
     "output_type": "execute_result"
    }
   ],
   "source": [
    "msft['target_date'] = pd.to_datetime(msft['target_date'], format = '%Y-%m-%d')\n",
    "msft['date'] = pd.to_datetime(msft['date'], format = '%Y-%m-%d')\n",
    "msft['period'] = msft['target_date'] - msft['date']\n",
    "msft.head()"
   ]
  },
  {
   "cell_type": "code",
   "execution_count": 107,
   "metadata": {},
   "outputs": [],
   "source": [
    "msft['period'] = msft['period'].dt.days # convert to integer"
   ]
  },
  {
   "cell_type": "code",
   "execution_count": 108,
   "metadata": {},
   "outputs": [
    {
     "data": {
      "text/html": [
       "<div>\n",
       "<style scoped>\n",
       "    .dataframe tbody tr th:only-of-type {\n",
       "        vertical-align: middle;\n",
       "    }\n",
       "\n",
       "    .dataframe tbody tr th {\n",
       "        vertical-align: top;\n",
       "    }\n",
       "\n",
       "    .dataframe thead th {\n",
       "        text-align: right;\n",
       "    }\n",
       "</style>\n",
       "<table border=\"1\" class=\"dataframe\">\n",
       "  <thead>\n",
       "    <tr style=\"text-align: right;\">\n",
       "      <th></th>\n",
       "      <th>ticker</th>\n",
       "      <th>date</th>\n",
       "      <th>neg_text</th>\n",
       "      <th>price_prior</th>\n",
       "      <th>price_0</th>\n",
       "      <th>price_1</th>\n",
       "      <th>price_3</th>\n",
       "      <th>price_7</th>\n",
       "      <th>true_price</th>\n",
       "      <th>target_date</th>\n",
       "      <th>period</th>\n",
       "    </tr>\n",
       "  </thead>\n",
       "  <tbody>\n",
       "    <tr>\n",
       "      <th>99</th>\n",
       "      <td>MSFT</td>\n",
       "      <td>2019-04-24</td>\n",
       "      <td>abuse adverse against break catastrophic claim...</td>\n",
       "      <td>125.440002</td>\n",
       "      <td>NaN</td>\n",
       "      <td>NaN</td>\n",
       "      <td>NaN</td>\n",
       "      <td>NaN</td>\n",
       "      <td>NaN</td>\n",
       "      <td>NaT</td>\n",
       "      <td>NaN</td>\n",
       "    </tr>\n",
       "  </tbody>\n",
       "</table>\n",
       "</div>"
      ],
      "text/plain": [
       "   ticker       date                                           neg_text  \\\n",
       "99   MSFT 2019-04-24  abuse adverse against break catastrophic claim...   \n",
       "\n",
       "    price_prior  price_0  price_1  price_3  price_7  true_price target_date  \\\n",
       "99   125.440002      NaN      NaN      NaN      NaN         NaN         NaT   \n",
       "\n",
       "    period  \n",
       "99     NaN  "
      ]
     },
     "execution_count": 108,
     "metadata": {},
     "output_type": "execute_result"
    }
   ],
   "source": [
    "msft[msft.isnull().any(axis=1)]"
   ]
  },
  {
   "cell_type": "code",
   "execution_count": 109,
   "metadata": {},
   "outputs": [
    {
     "data": {
      "text/plain": [
       "(0, (99, 11))"
      ]
     },
     "execution_count": 109,
     "metadata": {},
     "output_type": "execute_result"
    }
   ],
   "source": [
    "msft.dropna(axis=0, inplace=True)\n",
    "msft.isnull().sum().sum(), msft.shape"
   ]
  },
  {
   "cell_type": "code",
   "execution_count": 110,
   "metadata": {},
   "outputs": [],
   "source": [
    "msft.reset_index(drop=True, inplace = True)"
   ]
  },
  {
   "cell_type": "code",
   "execution_count": 111,
   "metadata": {},
   "outputs": [],
   "source": [
    "skips = [0,1,3,7]\n",
    "for skip in skips:\n",
    "    col = 'price_{}'.format(skip)\n",
    "    msft[col] = (msft[col] < 0).astype(int)"
   ]
  },
  {
   "cell_type": "code",
   "execution_count": 112,
   "metadata": {},
   "outputs": [],
   "source": [
    "msft.drop(columns=['date', 'price_prior', 'true_price', 'target_date'], inplace=True)"
   ]
  },
  {
   "cell_type": "code",
   "execution_count": 113,
   "metadata": {},
   "outputs": [],
   "source": [
    "msft.to_csv('./k8_msft_16_3.csv')"
   ]
  },
  {
   "cell_type": "code",
   "execution_count": null,
   "metadata": {},
   "outputs": [],
   "source": []
  }
 ],
 "metadata": {
  "kernelspec": {
   "display_name": "Python 3",
   "language": "python",
   "name": "python3"
  }
 },
 "nbformat": 4,
 "nbformat_minor": 2
}
